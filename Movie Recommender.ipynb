{
 "cells": [
  {
   "cell_type": "markdown",
   "metadata": {
    "colab_type": "text",
    "id": "qpVnHx8kzbH3"
   },
   "source": [
    "\n",
    "\n",
    "## MOVIE RECCOMENDER SYSTEM\n",
    "\n"
   ]
  },
  {
   "cell_type": "code",
   "execution_count": null,
   "metadata": {},
   "outputs": [],
   "source": []
  },
  {
   "cell_type": "code",
   "execution_count": 0,
   "metadata": {
    "colab": {},
    "colab_type": "code",
    "id": "5eC8xB3CzWzY"
   },
   "outputs": [],
   "source": [
    "#We are building a movie reccomendation system for the MovieLens dataset. \n",
    "#First, install spark and other necessary packages"
   ]
  },
  {
   "cell_type": "code",
   "execution_count": 0,
   "metadata": {
    "colab": {},
    "colab_type": "code",
    "id": "ezZj9Jl5wly7"
   },
   "outputs": [],
   "source": [
    "!apt-get install openjdk-8-jdk-headless -qq > /dev/null"
   ]
  },
  {
   "cell_type": "code",
   "execution_count": 0,
   "metadata": {
    "colab": {},
    "colab_type": "code",
    "id": "sQlebihcwvK9"
   },
   "outputs": [],
   "source": [
    "!wget -q http://apache.mirrors.pair.com/spark/spark-2.4.4/spark-2.4.4-bin-hadoop2.7.tgz"
   ]
  },
  {
   "cell_type": "code",
   "execution_count": 52,
   "metadata": {
    "colab": {
     "base_uri": "https://localhost:8080/",
     "height": 87
    },
    "colab_type": "code",
    "id": "KACbrHY5wxvc",
    "outputId": "abf2cfe6-9c1c-47a8-b1f4-a45d0a5bc43b"
   },
   "outputs": [
    {
     "name": "stdout",
     "output_type": "stream",
     "text": [
      "sample_data\t\t   spark-2.4.4-bin-hadoop2.7.tgz\n",
      "smallMovies.csv\t\t   spark-2.4.4-bin-hadoop2.7.tgz.1\n",
      "smallRatings.csv\t   spark-2.4.4-bin-hadoop2.7.tgz.2\n",
      "spark-2.4.4-bin-hadoop2.7\n"
     ]
    }
   ],
   "source": [
    "!ls"
   ]
  },
  {
   "cell_type": "code",
   "execution_count": 53,
   "metadata": {
    "colab": {
     "base_uri": "https://localhost:8080/",
     "height": 1000
    },
    "colab_type": "code",
    "id": "egiuyD_Kw1tT",
    "outputId": "3c0d8bc7-a028-47b5-b66b-2163dff68675"
   },
   "outputs": [
    {
     "name": "stdout",
     "output_type": "stream",
     "text": [
      "spark-2.4.4-bin-hadoop2.7/\n",
      "spark-2.4.4-bin-hadoop2.7/R/\n",
      "spark-2.4.4-bin-hadoop2.7/R/lib/\n",
      "spark-2.4.4-bin-hadoop2.7/R/lib/sparkr.zip\n",
      "spark-2.4.4-bin-hadoop2.7/R/lib/SparkR/\n",
      "spark-2.4.4-bin-hadoop2.7/R/lib/SparkR/INDEX\n",
      "spark-2.4.4-bin-hadoop2.7/R/lib/SparkR/html/\n",
      "spark-2.4.4-bin-hadoop2.7/R/lib/SparkR/html/R.css\n",
      "spark-2.4.4-bin-hadoop2.7/R/lib/SparkR/html/00Index.html\n",
      "spark-2.4.4-bin-hadoop2.7/R/lib/SparkR/help/\n",
      "spark-2.4.4-bin-hadoop2.7/R/lib/SparkR/help/aliases.rds\n",
      "spark-2.4.4-bin-hadoop2.7/R/lib/SparkR/help/AnIndex\n",
      "spark-2.4.4-bin-hadoop2.7/R/lib/SparkR/help/SparkR.rdx\n",
      "spark-2.4.4-bin-hadoop2.7/R/lib/SparkR/help/SparkR.rdb\n",
      "spark-2.4.4-bin-hadoop2.7/R/lib/SparkR/help/paths.rds\n",
      "spark-2.4.4-bin-hadoop2.7/R/lib/SparkR/worker/\n",
      "spark-2.4.4-bin-hadoop2.7/R/lib/SparkR/worker/worker.R\n",
      "spark-2.4.4-bin-hadoop2.7/R/lib/SparkR/worker/daemon.R\n",
      "spark-2.4.4-bin-hadoop2.7/R/lib/SparkR/tests/\n",
      "spark-2.4.4-bin-hadoop2.7/R/lib/SparkR/tests/testthat/\n",
      "spark-2.4.4-bin-hadoop2.7/R/lib/SparkR/tests/testthat/test_basic.R\n",
      "spark-2.4.4-bin-hadoop2.7/R/lib/SparkR/profile/\n",
      "spark-2.4.4-bin-hadoop2.7/R/lib/SparkR/profile/shell.R\n",
      "spark-2.4.4-bin-hadoop2.7/R/lib/SparkR/profile/general.R\n",
      "spark-2.4.4-bin-hadoop2.7/R/lib/SparkR/R/\n",
      "spark-2.4.4-bin-hadoop2.7/R/lib/SparkR/R/SparkR.rdx\n",
      "spark-2.4.4-bin-hadoop2.7/R/lib/SparkR/R/SparkR.rdb\n",
      "spark-2.4.4-bin-hadoop2.7/R/lib/SparkR/R/SparkR\n",
      "spark-2.4.4-bin-hadoop2.7/R/lib/SparkR/Meta/\n",
      "spark-2.4.4-bin-hadoop2.7/R/lib/SparkR/Meta/nsInfo.rds\n",
      "spark-2.4.4-bin-hadoop2.7/R/lib/SparkR/Meta/links.rds\n",
      "spark-2.4.4-bin-hadoop2.7/R/lib/SparkR/Meta/hsearch.rds\n",
      "spark-2.4.4-bin-hadoop2.7/R/lib/SparkR/Meta/Rd.rds\n",
      "spark-2.4.4-bin-hadoop2.7/R/lib/SparkR/Meta/features.rds\n",
      "spark-2.4.4-bin-hadoop2.7/R/lib/SparkR/Meta/package.rds\n",
      "spark-2.4.4-bin-hadoop2.7/R/lib/SparkR/DESCRIPTION\n",
      "spark-2.4.4-bin-hadoop2.7/R/lib/SparkR/NAMESPACE\n",
      "spark-2.4.4-bin-hadoop2.7/sbin/\n",
      "spark-2.4.4-bin-hadoop2.7/sbin/stop-shuffle-service.sh\n",
      "spark-2.4.4-bin-hadoop2.7/sbin/start-thriftserver.sh\n",
      "spark-2.4.4-bin-hadoop2.7/sbin/start-slave.sh\n",
      "spark-2.4.4-bin-hadoop2.7/sbin/start-shuffle-service.sh\n",
      "spark-2.4.4-bin-hadoop2.7/sbin/start-mesos-shuffle-service.sh\n",
      "spark-2.4.4-bin-hadoop2.7/sbin/start-master.sh\n",
      "spark-2.4.4-bin-hadoop2.7/sbin/start-history-server.sh\n",
      "spark-2.4.4-bin-hadoop2.7/sbin/spark-config.sh\n",
      "spark-2.4.4-bin-hadoop2.7/sbin/stop-thriftserver.sh\n",
      "spark-2.4.4-bin-hadoop2.7/sbin/stop-slaves.sh\n",
      "spark-2.4.4-bin-hadoop2.7/sbin/stop-slave.sh\n",
      "spark-2.4.4-bin-hadoop2.7/sbin/stop-mesos-shuffle-service.sh\n",
      "spark-2.4.4-bin-hadoop2.7/sbin/stop-mesos-dispatcher.sh\n",
      "spark-2.4.4-bin-hadoop2.7/sbin/stop-master.sh\n",
      "spark-2.4.4-bin-hadoop2.7/sbin/stop-history-server.sh\n",
      "spark-2.4.4-bin-hadoop2.7/sbin/stop-all.sh\n",
      "spark-2.4.4-bin-hadoop2.7/sbin/start-slaves.sh\n",
      "spark-2.4.4-bin-hadoop2.7/sbin/start-mesos-dispatcher.sh\n",
      "spark-2.4.4-bin-hadoop2.7/sbin/start-all.sh\n",
      "spark-2.4.4-bin-hadoop2.7/sbin/spark-daemons.sh\n",
      "spark-2.4.4-bin-hadoop2.7/sbin/spark-daemon.sh\n",
      "spark-2.4.4-bin-hadoop2.7/sbin/slaves.sh\n",
      "spark-2.4.4-bin-hadoop2.7/python/\n",
      "spark-2.4.4-bin-hadoop2.7/python/dist/\n",
      "spark-2.4.4-bin-hadoop2.7/python/pyspark.egg-info/\n",
      "spark-2.4.4-bin-hadoop2.7/python/pyspark.egg-info/SOURCES.txt\n",
      "spark-2.4.4-bin-hadoop2.7/python/pyspark.egg-info/dependency_links.txt\n",
      "spark-2.4.4-bin-hadoop2.7/python/pyspark.egg-info/top_level.txt\n",
      "spark-2.4.4-bin-hadoop2.7/python/pyspark.egg-info/PKG-INFO\n",
      "spark-2.4.4-bin-hadoop2.7/python/pyspark.egg-info/requires.txt\n",
      "spark-2.4.4-bin-hadoop2.7/python/README.md\n",
      "spark-2.4.4-bin-hadoop2.7/python/MANIFEST.in\n",
      "spark-2.4.4-bin-hadoop2.7/python/setup.py\n",
      "spark-2.4.4-bin-hadoop2.7/python/run-tests.py\n",
      "spark-2.4.4-bin-hadoop2.7/python/run-tests-with-coverage\n",
      "spark-2.4.4-bin-hadoop2.7/python/test_support/\n",
      "spark-2.4.4-bin-hadoop2.7/python/test_support/userlibrary.py\n",
      "spark-2.4.4-bin-hadoop2.7/python/test_support/userlib-0.1.zip\n",
      "spark-2.4.4-bin-hadoop2.7/python/test_support/sql/\n",
      "spark-2.4.4-bin-hadoop2.7/python/test_support/sql/text-test.txt\n",
      "spark-2.4.4-bin-hadoop2.7/python/test_support/sql/streaming/\n",
      "spark-2.4.4-bin-hadoop2.7/python/test_support/sql/streaming/text-test.txt\n",
      "spark-2.4.4-bin-hadoop2.7/python/test_support/sql/people_array_utf16le.json\n",
      "spark-2.4.4-bin-hadoop2.7/python/test_support/sql/people_array.json\n",
      "spark-2.4.4-bin-hadoop2.7/python/test_support/sql/people1.json\n",
      "spark-2.4.4-bin-hadoop2.7/python/test_support/sql/people.json\n",
      "spark-2.4.4-bin-hadoop2.7/python/test_support/sql/parquet_partitioned/\n",
      "spark-2.4.4-bin-hadoop2.7/python/test_support/sql/parquet_partitioned/year=2015/\n",
      "spark-2.4.4-bin-hadoop2.7/python/test_support/sql/parquet_partitioned/year=2015/month=9/\n",
      "spark-2.4.4-bin-hadoop2.7/python/test_support/sql/parquet_partitioned/year=2015/month=9/day=1/\n",
      "spark-2.4.4-bin-hadoop2.7/python/test_support/sql/parquet_partitioned/year=2015/month=9/day=1/part-r-00007.gz.parquet\n",
      "spark-2.4.4-bin-hadoop2.7/python/test_support/sql/parquet_partitioned/year=2015/month=9/day=1/.part-r-00007.gz.parquet.crc\n",
      "spark-2.4.4-bin-hadoop2.7/python/test_support/sql/parquet_partitioned/year=2015/month=10/\n",
      "spark-2.4.4-bin-hadoop2.7/python/test_support/sql/parquet_partitioned/year=2015/month=10/day=26/\n",
      "spark-2.4.4-bin-hadoop2.7/python/test_support/sql/parquet_partitioned/year=2015/month=10/day=26/part-r-00005.gz.parquet\n",
      "spark-2.4.4-bin-hadoop2.7/python/test_support/sql/parquet_partitioned/year=2015/month=10/day=26/.part-r-00005.gz.parquet.crc\n",
      "spark-2.4.4-bin-hadoop2.7/python/test_support/sql/parquet_partitioned/year=2015/month=10/day=25/\n",
      "spark-2.4.4-bin-hadoop2.7/python/test_support/sql/parquet_partitioned/year=2015/month=10/day=25/part-r-00004.gz.parquet\n",
      "spark-2.4.4-bin-hadoop2.7/python/test_support/sql/parquet_partitioned/year=2015/month=10/day=25/part-r-00002.gz.parquet\n",
      "spark-2.4.4-bin-hadoop2.7/python/test_support/sql/parquet_partitioned/year=2015/month=10/day=25/.part-r-00004.gz.parquet.crc\n",
      "spark-2.4.4-bin-hadoop2.7/python/test_support/sql/parquet_partitioned/year=2015/month=10/day=25/.part-r-00002.gz.parquet.crc\n",
      "spark-2.4.4-bin-hadoop2.7/python/test_support/sql/parquet_partitioned/year=2014/\n",
      "spark-2.4.4-bin-hadoop2.7/python/test_support/sql/parquet_partitioned/year=2014/month=9/\n",
      "spark-2.4.4-bin-hadoop2.7/python/test_support/sql/parquet_partitioned/year=2014/month=9/day=1/\n",
      "spark-2.4.4-bin-hadoop2.7/python/test_support/sql/parquet_partitioned/year=2014/month=9/day=1/part-r-00008.gz.parquet\n",
      "spark-2.4.4-bin-hadoop2.7/python/test_support/sql/parquet_partitioned/year=2014/month=9/day=1/.part-r-00008.gz.parquet.crc\n",
      "spark-2.4.4-bin-hadoop2.7/python/test_support/sql/parquet_partitioned/_metadata\n",
      "spark-2.4.4-bin-hadoop2.7/python/test_support/sql/parquet_partitioned/_common_metadata\n",
      "spark-2.4.4-bin-hadoop2.7/python/test_support/sql/parquet_partitioned/_SUCCESS\n",
      "spark-2.4.4-bin-hadoop2.7/python/test_support/sql/orc_partitioned/\n",
      "spark-2.4.4-bin-hadoop2.7/python/test_support/sql/orc_partitioned/b=1/\n",
      "spark-2.4.4-bin-hadoop2.7/python/test_support/sql/orc_partitioned/b=1/c=1/\n",
      "spark-2.4.4-bin-hadoop2.7/python/test_support/sql/orc_partitioned/b=1/c=1/part-r-00000-829af031-b970-49d6-ad39-30460a0be2c8.orc\n",
      "spark-2.4.4-bin-hadoop2.7/python/test_support/sql/orc_partitioned/b=1/c=1/.part-r-00000-829af031-b970-49d6-ad39-30460a0be2c8.orc.crc\n",
      "spark-2.4.4-bin-hadoop2.7/python/test_support/sql/orc_partitioned/b=0/\n",
      "spark-2.4.4-bin-hadoop2.7/python/test_support/sql/orc_partitioned/b=0/c=0/\n",
      "spark-2.4.4-bin-hadoop2.7/python/test_support/sql/orc_partitioned/b=0/c=0/part-r-00000-829af031-b970-49d6-ad39-30460a0be2c8.orc\n",
      "spark-2.4.4-bin-hadoop2.7/python/test_support/sql/orc_partitioned/b=0/c=0/.part-r-00000-829af031-b970-49d6-ad39-30460a0be2c8.orc.crc\n",
      "spark-2.4.4-bin-hadoop2.7/python/test_support/sql/orc_partitioned/_SUCCESS\n",
      "spark-2.4.4-bin-hadoop2.7/python/test_support/sql/ages_newlines.csv\n",
      "spark-2.4.4-bin-hadoop2.7/python/test_support/sql/ages.csv\n",
      "spark-2.4.4-bin-hadoop2.7/python/test_support/hello/\n",
      "spark-2.4.4-bin-hadoop2.7/python/test_support/hello/sub_hello/\n",
      "spark-2.4.4-bin-hadoop2.7/python/test_support/hello/sub_hello/sub_hello.txt\n",
      "spark-2.4.4-bin-hadoop2.7/python/test_support/hello/hello.txt\n",
      "spark-2.4.4-bin-hadoop2.7/python/test_support/SimpleHTTPServer.py\n",
      "spark-2.4.4-bin-hadoop2.7/python/test_coverage/\n",
      "spark-2.4.4-bin-hadoop2.7/python/test_coverage/sitecustomize.py\n",
      "spark-2.4.4-bin-hadoop2.7/python/test_coverage/coverage_daemon.py\n",
      "spark-2.4.4-bin-hadoop2.7/python/test_coverage/conf/\n",
      "spark-2.4.4-bin-hadoop2.7/python/test_coverage/conf/spark-defaults.conf\n",
      "spark-2.4.4-bin-hadoop2.7/python/setup.cfg\n",
      "spark-2.4.4-bin-hadoop2.7/python/run-tests\n",
      "spark-2.4.4-bin-hadoop2.7/python/pyspark/\n",
      "spark-2.4.4-bin-hadoop2.7/python/pyspark/python/\n",
      "spark-2.4.4-bin-hadoop2.7/python/pyspark/python/pyspark/\n",
      "spark-2.4.4-bin-hadoop2.7/python/pyspark/python/pyspark/shell.py\n",
      "spark-2.4.4-bin-hadoop2.7/python/pyspark/shuffle.py\n",
      "spark-2.4.4-bin-hadoop2.7/python/pyspark/serializers.py\n",
      "spark-2.4.4-bin-hadoop2.7/python/pyspark/rdd.py\n",
      "spark-2.4.4-bin-hadoop2.7/python/pyspark/profiler.py\n",
      "spark-2.4.4-bin-hadoop2.7/python/pyspark/java_gateway.py\n",
      "spark-2.4.4-bin-hadoop2.7/python/pyspark/files.py\n",
      "spark-2.4.4-bin-hadoop2.7/python/pyspark/daemon.py\n",
      "spark-2.4.4-bin-hadoop2.7/python/pyspark/context.py\n",
      "spark-2.4.4-bin-hadoop2.7/python/pyspark/conf.py\n",
      "spark-2.4.4-bin-hadoop2.7/python/pyspark/cloudpickle.py\n",
      "spark-2.4.4-bin-hadoop2.7/python/pyspark/broadcast.py\n",
      "spark-2.4.4-bin-hadoop2.7/python/pyspark/accumulators.py\n",
      "spark-2.4.4-bin-hadoop2.7/python/pyspark/__init__.py\n",
      "spark-2.4.4-bin-hadoop2.7/python/pyspark/worker.py\n",
      "spark-2.4.4-bin-hadoop2.7/python/pyspark/version.py\n",
      "spark-2.4.4-bin-hadoop2.7/python/pyspark/util.py\n",
      "spark-2.4.4-bin-hadoop2.7/python/pyspark/tests.py\n",
      "spark-2.4.4-bin-hadoop2.7/python/pyspark/test_serializers.py\n",
      "spark-2.4.4-bin-hadoop2.7/python/pyspark/test_broadcast.py\n",
      "spark-2.4.4-bin-hadoop2.7/python/pyspark/taskcontext.py\n",
      "spark-2.4.4-bin-hadoop2.7/python/pyspark/storagelevel.py\n",
      "spark-2.4.4-bin-hadoop2.7/python/pyspark/traceback_utils.py\n",
      "spark-2.4.4-bin-hadoop2.7/python/pyspark/streaming/\n",
      "spark-2.4.4-bin-hadoop2.7/python/pyspark/streaming/tests.py\n",
      "spark-2.4.4-bin-hadoop2.7/python/pyspark/streaming/kinesis.py\n",
      "spark-2.4.4-bin-hadoop2.7/python/pyspark/streaming/kafka.py\n",
      "spark-2.4.4-bin-hadoop2.7/python/pyspark/streaming/flume.py\n",
      "spark-2.4.4-bin-hadoop2.7/python/pyspark/streaming/dstream.py\n",
      "spark-2.4.4-bin-hadoop2.7/python/pyspark/streaming/context.py\n",
      "spark-2.4.4-bin-hadoop2.7/python/pyspark/streaming/util.py\n",
      "spark-2.4.4-bin-hadoop2.7/python/pyspark/streaming/listener.py\n",
      "spark-2.4.4-bin-hadoop2.7/python/pyspark/streaming/__init__.py\n",
      "spark-2.4.4-bin-hadoop2.7/python/pyspark/status.py\n",
      "spark-2.4.4-bin-hadoop2.7/python/pyspark/statcounter.py\n",
      "spark-2.4.4-bin-hadoop2.7/python/pyspark/sql/\n",
      "spark-2.4.4-bin-hadoop2.7/python/pyspark/sql/tests.py\n",
      "spark-2.4.4-bin-hadoop2.7/python/pyspark/sql/streaming.py\n",
      "spark-2.4.4-bin-hadoop2.7/python/pyspark/sql/session.py\n",
      "spark-2.4.4-bin-hadoop2.7/python/pyspark/sql/readwriter.py\n",
      "spark-2.4.4-bin-hadoop2.7/python/pyspark/sql/functions.py\n",
      "spark-2.4.4-bin-hadoop2.7/python/pyspark/sql/dataframe.py\n",
      "spark-2.4.4-bin-hadoop2.7/python/pyspark/sql/context.py\n",
      "spark-2.4.4-bin-hadoop2.7/python/pyspark/sql/window.py\n",
      "spark-2.4.4-bin-hadoop2.7/python/pyspark/sql/utils.py\n",
      "spark-2.4.4-bin-hadoop2.7/python/pyspark/sql/udf.py\n",
      "spark-2.4.4-bin-hadoop2.7/python/pyspark/sql/types.py\n",
      "spark-2.4.4-bin-hadoop2.7/python/pyspark/sql/group.py\n",
      "spark-2.4.4-bin-hadoop2.7/python/pyspark/sql/conf.py\n",
      "spark-2.4.4-bin-hadoop2.7/python/pyspark/sql/column.py\n",
      "spark-2.4.4-bin-hadoop2.7/python/pyspark/sql/catalog.py\n",
      "spark-2.4.4-bin-hadoop2.7/python/pyspark/sql/__init__.py\n",
      "spark-2.4.4-bin-hadoop2.7/python/pyspark/shell.py\n",
      "spark-2.4.4-bin-hadoop2.7/python/pyspark/resultiterable.py\n",
      "spark-2.4.4-bin-hadoop2.7/python/pyspark/rddsampler.py\n",
      "spark-2.4.4-bin-hadoop2.7/python/pyspark/mllib/\n",
      "spark-2.4.4-bin-hadoop2.7/python/pyspark/mllib/util.py\n",
      "spark-2.4.4-bin-hadoop2.7/python/pyspark/mllib/tree.py\n",
      "spark-2.4.4-bin-hadoop2.7/python/pyspark/mllib/tests.py\n",
      "spark-2.4.4-bin-hadoop2.7/python/pyspark/mllib/regression.py\n",
      "spark-2.4.4-bin-hadoop2.7/python/pyspark/mllib/recommendation.py\n",
      "spark-2.4.4-bin-hadoop2.7/python/pyspark/mllib/random.py\n",
      "spark-2.4.4-bin-hadoop2.7/python/pyspark/mllib/fpm.py\n",
      "spark-2.4.4-bin-hadoop2.7/python/pyspark/mllib/feature.py\n",
      "spark-2.4.4-bin-hadoop2.7/python/pyspark/mllib/evaluation.py\n",
      "spark-2.4.4-bin-hadoop2.7/python/pyspark/mllib/clustering.py\n",
      "spark-2.4.4-bin-hadoop2.7/python/pyspark/mllib/classification.py\n",
      "spark-2.4.4-bin-hadoop2.7/python/pyspark/mllib/stat/\n",
      "spark-2.4.4-bin-hadoop2.7/python/pyspark/mllib/stat/_statistics.py\n",
      "spark-2.4.4-bin-hadoop2.7/python/pyspark/mllib/stat/test.py\n",
      "spark-2.4.4-bin-hadoop2.7/python/pyspark/mllib/stat/distribution.py\n",
      "spark-2.4.4-bin-hadoop2.7/python/pyspark/mllib/stat/__init__.py\n",
      "spark-2.4.4-bin-hadoop2.7/python/pyspark/mllib/stat/KernelDensity.py\n",
      "spark-2.4.4-bin-hadoop2.7/python/pyspark/mllib/linalg/\n",
      "spark-2.4.4-bin-hadoop2.7/python/pyspark/mllib/linalg/distributed.py\n",
      "spark-2.4.4-bin-hadoop2.7/python/pyspark/mllib/linalg/__init__.py\n",
      "spark-2.4.4-bin-hadoop2.7/python/pyspark/mllib/common.py\n",
      "spark-2.4.4-bin-hadoop2.7/python/pyspark/mllib/__init__.py\n",
      "spark-2.4.4-bin-hadoop2.7/python/pyspark/ml/\n",
      "spark-2.4.4-bin-hadoop2.7/python/pyspark/ml/wrapper.py\n",
      "spark-2.4.4-bin-hadoop2.7/python/pyspark/ml/util.py\n",
      "spark-2.4.4-bin-hadoop2.7/python/pyspark/ml/tuning.py\n",
      "spark-2.4.4-bin-hadoop2.7/python/pyspark/ml/tests.py\n",
      "spark-2.4.4-bin-hadoop2.7/python/pyspark/ml/regression.py\n",
      "spark-2.4.4-bin-hadoop2.7/python/pyspark/ml/recommendation.py\n",
      "spark-2.4.4-bin-hadoop2.7/python/pyspark/ml/image.py\n",
      "spark-2.4.4-bin-hadoop2.7/python/pyspark/ml/fpm.py\n",
      "spark-2.4.4-bin-hadoop2.7/python/pyspark/ml/feature.py\n",
      "spark-2.4.4-bin-hadoop2.7/python/pyspark/ml/evaluation.py\n",
      "spark-2.4.4-bin-hadoop2.7/python/pyspark/ml/clustering.py\n",
      "spark-2.4.4-bin-hadoop2.7/python/pyspark/ml/classification.py\n",
      "spark-2.4.4-bin-hadoop2.7/python/pyspark/ml/stat.py\n",
      "spark-2.4.4-bin-hadoop2.7/python/pyspark/ml/pipeline.py\n",
      "spark-2.4.4-bin-hadoop2.7/python/pyspark/ml/param/\n",
      "spark-2.4.4-bin-hadoop2.7/python/pyspark/ml/param/shared.py\n",
      "spark-2.4.4-bin-hadoop2.7/python/pyspark/ml/param/_shared_params_code_gen.py\n",
      "spark-2.4.4-bin-hadoop2.7/python/pyspark/ml/param/__init__.py\n",
      "spark-2.4.4-bin-hadoop2.7/python/pyspark/ml/linalg/\n",
      "spark-2.4.4-bin-hadoop2.7/python/pyspark/ml/linalg/__init__.py\n",
      "spark-2.4.4-bin-hadoop2.7/python/pyspark/ml/common.py\n",
      "spark-2.4.4-bin-hadoop2.7/python/pyspark/ml/base.py\n",
      "spark-2.4.4-bin-hadoop2.7/python/pyspark/ml/__init__.py\n",
      "spark-2.4.4-bin-hadoop2.7/python/pyspark/join.py\n",
      "spark-2.4.4-bin-hadoop2.7/python/pyspark/heapq3.py\n",
      "spark-2.4.4-bin-hadoop2.7/python/pyspark/find_spark_home.py\n",
      "spark-2.4.4-bin-hadoop2.7/python/pyspark/_globals.py\n",
      "spark-2.4.4-bin-hadoop2.7/python/pylintrc\n",
      "spark-2.4.4-bin-hadoop2.7/python/lib/\n",
      "spark-2.4.4-bin-hadoop2.7/python/lib/pyspark.zip\n",
      "spark-2.4.4-bin-hadoop2.7/python/lib/py4j-0.10.7-src.zip\n",
      "spark-2.4.4-bin-hadoop2.7/python/lib/PY4J_LICENSE.txt\n",
      "spark-2.4.4-bin-hadoop2.7/python/docs/\n",
      "spark-2.4.4-bin-hadoop2.7/python/docs/pyspark.streaming.rst\n",
      "spark-2.4.4-bin-hadoop2.7/python/docs/pyspark.sql.rst\n",
      "spark-2.4.4-bin-hadoop2.7/python/docs/epytext.py\n",
      "spark-2.4.4-bin-hadoop2.7/python/docs/conf.py\n",
      "spark-2.4.4-bin-hadoop2.7/python/docs/Makefile\n",
      "spark-2.4.4-bin-hadoop2.7/python/docs/pyspark.rst\n",
      "spark-2.4.4-bin-hadoop2.7/python/docs/pyspark.mllib.rst\n",
      "spark-2.4.4-bin-hadoop2.7/python/docs/pyspark.ml.rst\n",
      "spark-2.4.4-bin-hadoop2.7/python/docs/make2.bat\n",
      "spark-2.4.4-bin-hadoop2.7/python/docs/make.bat\n",
      "spark-2.4.4-bin-hadoop2.7/python/docs/index.rst\n",
      "spark-2.4.4-bin-hadoop2.7/python/docs/_templates/\n",
      "spark-2.4.4-bin-hadoop2.7/python/docs/_templates/layout.html\n",
      "spark-2.4.4-bin-hadoop2.7/python/docs/_static/\n",
      "spark-2.4.4-bin-hadoop2.7/python/docs/_static/pyspark.js\n",
      "spark-2.4.4-bin-hadoop2.7/python/docs/_static/pyspark.css\n",
      "spark-2.4.4-bin-hadoop2.7/python/.gitignore\n",
      "spark-2.4.4-bin-hadoop2.7/python/.coveragerc\n",
      "spark-2.4.4-bin-hadoop2.7/bin/\n",
      "spark-2.4.4-bin-hadoop2.7/bin/spark-class\n",
      "spark-2.4.4-bin-hadoop2.7/bin/pyspark2.cmd\n",
      "spark-2.4.4-bin-hadoop2.7/bin/pyspark\n",
      "spark-2.4.4-bin-hadoop2.7/bin/load-spark-env.sh\n",
      "spark-2.4.4-bin-hadoop2.7/bin/load-spark-env.cmd\n",
      "spark-2.4.4-bin-hadoop2.7/bin/docker-image-tool.sh\n",
      "spark-2.4.4-bin-hadoop2.7/bin/sparkR2.cmd\n",
      "spark-2.4.4-bin-hadoop2.7/bin/sparkR.cmd\n",
      "spark-2.4.4-bin-hadoop2.7/bin/sparkR\n",
      "spark-2.4.4-bin-hadoop2.7/bin/spark-submit2.cmd\n",
      "spark-2.4.4-bin-hadoop2.7/bin/spark-submit.cmd\n",
      "spark-2.4.4-bin-hadoop2.7/bin/spark-submit\n",
      "spark-2.4.4-bin-hadoop2.7/bin/spark-sql2.cmd\n",
      "spark-2.4.4-bin-hadoop2.7/bin/spark-sql.cmd\n",
      "spark-2.4.4-bin-hadoop2.7/bin/spark-sql\n",
      "spark-2.4.4-bin-hadoop2.7/bin/spark-shell2.cmd\n",
      "spark-2.4.4-bin-hadoop2.7/bin/spark-shell.cmd\n",
      "spark-2.4.4-bin-hadoop2.7/bin/spark-shell\n",
      "spark-2.4.4-bin-hadoop2.7/bin/spark-class2.cmd\n",
      "spark-2.4.4-bin-hadoop2.7/bin/spark-class.cmd\n",
      "spark-2.4.4-bin-hadoop2.7/bin/run-example.cmd\n",
      "spark-2.4.4-bin-hadoop2.7/bin/run-example\n",
      "spark-2.4.4-bin-hadoop2.7/bin/pyspark.cmd\n",
      "spark-2.4.4-bin-hadoop2.7/bin/find-spark-home.cmd\n",
      "spark-2.4.4-bin-hadoop2.7/bin/find-spark-home\n",
      "spark-2.4.4-bin-hadoop2.7/bin/beeline.cmd\n",
      "spark-2.4.4-bin-hadoop2.7/bin/beeline\n",
      "spark-2.4.4-bin-hadoop2.7/README.md\n",
      "spark-2.4.4-bin-hadoop2.7/conf/\n",
      "spark-2.4.4-bin-hadoop2.7/conf/spark-env.sh.template\n",
      "spark-2.4.4-bin-hadoop2.7/conf/spark-defaults.conf.template\n",
      "spark-2.4.4-bin-hadoop2.7/conf/slaves.template\n",
      "spark-2.4.4-bin-hadoop2.7/conf/metrics.properties.template\n",
      "spark-2.4.4-bin-hadoop2.7/conf/log4j.properties.template\n",
      "spark-2.4.4-bin-hadoop2.7/conf/fairscheduler.xml.template\n",
      "spark-2.4.4-bin-hadoop2.7/conf/docker.properties.template\n",
      "spark-2.4.4-bin-hadoop2.7/data/\n",
      "spark-2.4.4-bin-hadoop2.7/data/mllib/\n",
      "spark-2.4.4-bin-hadoop2.7/data/mllib/gmm_data.txt\n",
      "spark-2.4.4-bin-hadoop2.7/data/mllib/als/\n",
      "spark-2.4.4-bin-hadoop2.7/data/mllib/als/test.data\n",
      "spark-2.4.4-bin-hadoop2.7/data/mllib/als/sample_movielens_ratings.txt\n",
      "spark-2.4.4-bin-hadoop2.7/data/mllib/streaming_kmeans_data_test.txt\n",
      "spark-2.4.4-bin-hadoop2.7/data/mllib/sample_svm_data.txt\n",
      "spark-2.4.4-bin-hadoop2.7/data/mllib/sample_multiclass_classification_data.txt\n",
      "spark-2.4.4-bin-hadoop2.7/data/mllib/sample_movielens_data.txt\n",
      "spark-2.4.4-bin-hadoop2.7/data/mllib/sample_linear_regression_data.txt\n",
      "spark-2.4.4-bin-hadoop2.7/data/mllib/sample_libsvm_data.txt\n",
      "spark-2.4.4-bin-hadoop2.7/data/mllib/sample_lda_libsvm_data.txt\n",
      "spark-2.4.4-bin-hadoop2.7/data/mllib/sample_lda_data.txt\n",
      "spark-2.4.4-bin-hadoop2.7/data/mllib/sample_kmeans_data.txt\n",
      "spark-2.4.4-bin-hadoop2.7/data/mllib/sample_isotonic_regression_libsvm_data.txt\n",
      "spark-2.4.4-bin-hadoop2.7/data/mllib/sample_fpgrowth.txt\n",
      "spark-2.4.4-bin-hadoop2.7/data/mllib/sample_binary_classification_data.txt\n",
      "spark-2.4.4-bin-hadoop2.7/data/mllib/ridge-data/\n",
      "spark-2.4.4-bin-hadoop2.7/data/mllib/ridge-data/lpsa.data\n",
      "spark-2.4.4-bin-hadoop2.7/data/mllib/pic_data.txt\n",
      "spark-2.4.4-bin-hadoop2.7/data/mllib/pagerank_data.txt\n",
      "spark-2.4.4-bin-hadoop2.7/data/mllib/kmeans_data.txt\n",
      "spark-2.4.4-bin-hadoop2.7/data/mllib/iris_libsvm.txt\n",
      "spark-2.4.4-bin-hadoop2.7/data/mllib/images/\n",
      "spark-2.4.4-bin-hadoop2.7/data/mllib/images/partitioned/\n",
      "spark-2.4.4-bin-hadoop2.7/data/mllib/images/partitioned/cls=multichannel/\n",
      "spark-2.4.4-bin-hadoop2.7/data/mllib/images/partitioned/cls=multichannel/date=2018-02/\n",
      "spark-2.4.4-bin-hadoop2.7/data/mllib/images/partitioned/cls=multichannel/date=2018-02/grayscale.jpg\n",
      "spark-2.4.4-bin-hadoop2.7/data/mllib/images/partitioned/cls=multichannel/date=2018-02/chr30.4.184.jpg\n",
      "spark-2.4.4-bin-hadoop2.7/data/mllib/images/partitioned/cls=multichannel/date=2018-01/\n",
      "spark-2.4.4-bin-hadoop2.7/data/mllib/images/partitioned/cls=multichannel/date=2018-01/BGRA_alpha_60.png\n",
      "spark-2.4.4-bin-hadoop2.7/data/mllib/images/partitioned/cls=multichannel/date=2018-01/BGRA.png\n",
      "spark-2.4.4-bin-hadoop2.7/data/mllib/images/partitioned/cls=kittens/\n",
      "spark-2.4.4-bin-hadoop2.7/data/mllib/images/partitioned/cls=kittens/date=2018-02/\n",
      "spark-2.4.4-bin-hadoop2.7/data/mllib/images/partitioned/cls=kittens/date=2018-02/DP802813.jpg\n",
      "spark-2.4.4-bin-hadoop2.7/data/mllib/images/partitioned/cls=kittens/date=2018-02/DP153539.jpg\n",
      "spark-2.4.4-bin-hadoop2.7/data/mllib/images/partitioned/cls=kittens/date=2018-02/54893.jpg\n",
      "spark-2.4.4-bin-hadoop2.7/data/mllib/images/partitioned/cls=kittens/date=2018-01/\n",
      "spark-2.4.4-bin-hadoop2.7/data/mllib/images/partitioned/cls=kittens/date=2018-01/not-image.txt\n",
      "spark-2.4.4-bin-hadoop2.7/data/mllib/images/partitioned/cls=kittens/date=2018-01/29.5.a_b_EGDP022204.jpg\n",
      "spark-2.4.4-bin-hadoop2.7/data/mllib/images/origin/\n",
      "spark-2.4.4-bin-hadoop2.7/data/mllib/images/origin/multi-channel/\n",
      "spark-2.4.4-bin-hadoop2.7/data/mllib/images/origin/multi-channel/grayscale.jpg\n",
      "spark-2.4.4-bin-hadoop2.7/data/mllib/images/origin/multi-channel/chr30.4.184.jpg\n",
      "spark-2.4.4-bin-hadoop2.7/data/mllib/images/origin/multi-channel/BGRA_alpha_60.png\n",
      "spark-2.4.4-bin-hadoop2.7/data/mllib/images/origin/multi-channel/BGRA.png\n",
      "spark-2.4.4-bin-hadoop2.7/data/mllib/images/origin/license.txt\n",
      "spark-2.4.4-bin-hadoop2.7/data/mllib/images/origin/kittens/\n",
      "spark-2.4.4-bin-hadoop2.7/data/mllib/images/origin/kittens/not-image.txt\n",
      "spark-2.4.4-bin-hadoop2.7/data/mllib/images/origin/kittens/DP802813.jpg\n",
      "spark-2.4.4-bin-hadoop2.7/data/mllib/images/origin/kittens/DP153539.jpg\n",
      "spark-2.4.4-bin-hadoop2.7/data/mllib/images/origin/kittens/54893.jpg\n",
      "spark-2.4.4-bin-hadoop2.7/data/mllib/images/origin/kittens/29.5.a_b_EGDP022204.jpg\n",
      "spark-2.4.4-bin-hadoop2.7/data/mllib/images/license.txt\n",
      "spark-2.4.4-bin-hadoop2.7/data/graphx/\n",
      "spark-2.4.4-bin-hadoop2.7/data/graphx/users.txt\n",
      "spark-2.4.4-bin-hadoop2.7/data/graphx/followers.txt\n",
      "spark-2.4.4-bin-hadoop2.7/data/streaming/\n",
      "spark-2.4.4-bin-hadoop2.7/data/streaming/AFINN-111.txt\n",
      "spark-2.4.4-bin-hadoop2.7/NOTICE\n",
      "spark-2.4.4-bin-hadoop2.7/licenses/\n",
      "spark-2.4.4-bin-hadoop2.7/licenses/LICENSE-jtransforms.html\n",
      "spark-2.4.4-bin-hadoop2.7/licenses/LICENSE-json-formatter.txt\n",
      "spark-2.4.4-bin-hadoop2.7/licenses/LICENSE-jquery.txt\n",
      "spark-2.4.4-bin-hadoop2.7/licenses/LICENSE-join.txt\n",
      "spark-2.4.4-bin-hadoop2.7/licenses/LICENSE-jodd.txt\n",
      "spark-2.4.4-bin-hadoop2.7/licenses/LICENSE-jline.txt\n",
      "spark-2.4.4-bin-hadoop2.7/licenses/LICENSE-javolution.txt\n",
      "spark-2.4.4-bin-hadoop2.7/licenses/LICENSE-javassist.html\n",
      "spark-2.4.4-bin-hadoop2.7/licenses/LICENSE-janino.txt\n",
      "spark-2.4.4-bin-hadoop2.7/licenses/LICENSE-heapq.txt\n",
      "spark-2.4.4-bin-hadoop2.7/licenses/LICENSE-graphlib-dot.txt\n",
      "spark-2.4.4-bin-hadoop2.7/licenses/LICENSE-f2j.txt\n",
      "spark-2.4.4-bin-hadoop2.7/licenses/LICENSE-datatables.txt\n",
      "spark-2.4.4-bin-hadoop2.7/licenses/LICENSE-dagre-d3.txt\n",
      "spark-2.4.4-bin-hadoop2.7/licenses/LICENSE-d3.min.js.txt\n",
      "spark-2.4.4-bin-hadoop2.7/licenses/LICENSE-cloudpickle.txt\n",
      "spark-2.4.4-bin-hadoop2.7/licenses/LICENSE-bootstrap.txt\n",
      "spark-2.4.4-bin-hadoop2.7/licenses/LICENSE-automaton.txt\n",
      "spark-2.4.4-bin-hadoop2.7/licenses/LICENSE-arpack.txt\n",
      "spark-2.4.4-bin-hadoop2.7/licenses/LICENSE-antlr.txt\n",
      "spark-2.4.4-bin-hadoop2.7/licenses/LICENSE-CC0.txt\n",
      "spark-2.4.4-bin-hadoop2.7/licenses/LICENSE-AnchorJS.txt\n",
      "spark-2.4.4-bin-hadoop2.7/licenses/LICENSE-zstd.txt\n",
      "spark-2.4.4-bin-hadoop2.7/licenses/LICENSE-zstd-jni.txt\n",
      "spark-2.4.4-bin-hadoop2.7/licenses/LICENSE-xmlenc.txt\n",
      "spark-2.4.4-bin-hadoop2.7/licenses/LICENSE-vis.txt\n",
      "spark-2.4.4-bin-hadoop2.7/licenses/LICENSE-spire.txt\n",
      "spark-2.4.4-bin-hadoop2.7/licenses/LICENSE-sorttable.js.txt\n",
      "spark-2.4.4-bin-hadoop2.7/licenses/LICENSE-slf4j.txt\n",
      "spark-2.4.4-bin-hadoop2.7/licenses/LICENSE-scopt.txt\n",
      "spark-2.4.4-bin-hadoop2.7/licenses/LICENSE-scala.txt\n",
      "spark-2.4.4-bin-hadoop2.7/licenses/LICENSE-sbt-launch-lib.txt\n",
      "spark-2.4.4-bin-hadoop2.7/licenses/LICENSE-respond.txt\n",
      "spark-2.4.4-bin-hadoop2.7/licenses/LICENSE-reflectasm.txt\n",
      "spark-2.4.4-bin-hadoop2.7/licenses/LICENSE-pyrolite.txt\n",
      "spark-2.4.4-bin-hadoop2.7/licenses/LICENSE-py4j.txt\n",
      "spark-2.4.4-bin-hadoop2.7/licenses/LICENSE-protobuf.txt\n",
      "spark-2.4.4-bin-hadoop2.7/licenses/LICENSE-pmml-model.txt\n",
      "spark-2.4.4-bin-hadoop2.7/licenses/LICENSE-paranamer.txt\n",
      "spark-2.4.4-bin-hadoop2.7/licenses/LICENSE-netlib.txt\n",
      "spark-2.4.4-bin-hadoop2.7/licenses/LICENSE-mustache.txt\n",
      "spark-2.4.4-bin-hadoop2.7/licenses/LICENSE-modernizr.txt\n",
      "spark-2.4.4-bin-hadoop2.7/licenses/LICENSE-minlog.txt\n",
      "spark-2.4.4-bin-hadoop2.7/licenses/LICENSE-matchMedia-polyfill.txt\n",
      "spark-2.4.4-bin-hadoop2.7/licenses/LICENSE-machinist.txt\n",
      "spark-2.4.4-bin-hadoop2.7/licenses/LICENSE-leveldbjni.txt\n",
      "spark-2.4.4-bin-hadoop2.7/licenses/LICENSE-kryo.txt\n",
      "spark-2.4.4-bin-hadoop2.7/LICENSE\n",
      "spark-2.4.4-bin-hadoop2.7/examples/\n",
      "spark-2.4.4-bin-hadoop2.7/examples/src/\n",
      "spark-2.4.4-bin-hadoop2.7/examples/src/main/\n",
      "spark-2.4.4-bin-hadoop2.7/examples/src/main/scala/\n",
      "spark-2.4.4-bin-hadoop2.7/examples/src/main/scala/org/\n",
      "spark-2.4.4-bin-hadoop2.7/examples/src/main/scala/org/apache/\n",
      "spark-2.4.4-bin-hadoop2.7/examples/src/main/scala/org/apache/spark/\n",
      "spark-2.4.4-bin-hadoop2.7/examples/src/main/scala/org/apache/spark/examples/\n",
      "spark-2.4.4-bin-hadoop2.7/examples/src/main/scala/org/apache/spark/examples/mllib/\n",
      "spark-2.4.4-bin-hadoop2.7/examples/src/main/scala/org/apache/spark/examples/mllib/ElementwiseProductExample.scala\n",
      "spark-2.4.4-bin-hadoop2.7/examples/src/main/scala/org/apache/spark/examples/mllib/DenseKMeans.scala\n",
      "spark-2.4.4-bin-hadoop2.7/examples/src/main/scala/org/apache/spark/examples/mllib/DecisionTreeRegressionExample.scala\n",
      "spark-2.4.4-bin-hadoop2.7/examples/src/main/scala/org/apache/spark/examples/mllib/DecisionTreeClassificationExample.scala\n",
      "spark-2.4.4-bin-hadoop2.7/examples/src/main/scala/org/apache/spark/examples/mllib/CosineSimilarity.scala\n",
      "spark-2.4.4-bin-hadoop2.7/examples/src/main/scala/org/apache/spark/examples/mllib/CorrelationsExample.scala\n",
      "spark-2.4.4-bin-hadoop2.7/examples/src/main/scala/org/apache/spark/examples/mllib/Correlations.scala\n",
      "spark-2.4.4-bin-hadoop2.7/examples/src/main/scala/org/apache/spark/examples/mllib/ChiSqSelectorExample.scala\n",
      "spark-2.4.4-bin-hadoop2.7/examples/src/main/scala/org/apache/spark/examples/mllib/BisectingKMeansExample.scala\n",
      "spark-2.4.4-bin-hadoop2.7/examples/src/main/scala/org/apache/spark/examples/mllib/BinaryClassificationMetricsExample.scala\n",
      "spark-2.4.4-bin-hadoop2.7/examples/src/main/scala/org/apache/spark/examples/mllib/AssociationRulesExample.scala\n",
      "spark-2.4.4-bin-hadoop2.7/examples/src/main/scala/org/apache/spark/examples/mllib/AbstractParams.scala\n",
      "spark-2.4.4-bin-hadoop2.7/examples/src/main/scala/org/apache/spark/examples/mllib/Word2VecExample.scala\n",
      "spark-2.4.4-bin-hadoop2.7/examples/src/main/scala/org/apache/spark/examples/mllib/TallSkinnySVD.scala\n",
      "spark-2.4.4-bin-hadoop2.7/examples/src/main/scala/org/apache/spark/examples/mllib/TallSkinnyPCA.scala\n",
      "spark-2.4.4-bin-hadoop2.7/examples/src/main/scala/org/apache/spark/examples/mllib/TFIDFExample.scala\n",
      "spark-2.4.4-bin-hadoop2.7/examples/src/main/scala/org/apache/spark/examples/mllib/SummaryStatisticsExample.scala\n",
      "spark-2.4.4-bin-hadoop2.7/examples/src/main/scala/org/apache/spark/examples/mllib/StreamingTestExample.scala\n",
      "spark-2.4.4-bin-hadoop2.7/examples/src/main/scala/org/apache/spark/examples/mllib/StreamingLogisticRegression.scala\n",
      "spark-2.4.4-bin-hadoop2.7/examples/src/main/scala/org/apache/spark/examples/mllib/StreamingLinearRegressionExample.scala\n",
      "spark-2.4.4-bin-hadoop2.7/examples/src/main/scala/org/apache/spark/examples/mllib/StreamingKMeansExample.scala\n",
      "spark-2.4.4-bin-hadoop2.7/examples/src/main/scala/org/apache/spark/examples/mllib/StratifiedSamplingExample.scala\n",
      "spark-2.4.4-bin-hadoop2.7/examples/src/main/scala/org/apache/spark/examples/mllib/StandardScalerExample.scala\n",
      "spark-2.4.4-bin-hadoop2.7/examples/src/main/scala/org/apache/spark/examples/mllib/SparseNaiveBayes.scala\n",
      "spark-2.4.4-bin-hadoop2.7/examples/src/main/scala/org/apache/spark/examples/mllib/SimpleFPGrowth.scala\n",
      "spark-2.4.4-bin-hadoop2.7/examples/src/main/scala/org/apache/spark/examples/mllib/SampledRDDs.scala\n",
      "spark-2.4.4-bin-hadoop2.7/examples/src/main/scala/org/apache/spark/examples/mllib/SVMWithSGDExample.scala\n",
      "spark-2.4.4-bin-hadoop2.7/examples/src/main/scala/org/apache/spark/examples/mllib/SVDExample.scala\n",
      "spark-2.4.4-bin-hadoop2.7/examples/src/main/scala/org/apache/spark/examples/mllib/RegressionMetricsExample.scala\n",
      "spark-2.4.4-bin-hadoop2.7/examples/src/main/scala/org/apache/spark/examples/mllib/RecommendationExample.scala\n",
      "spark-2.4.4-bin-hadoop2.7/examples/src/main/scala/org/apache/spark/examples/mllib/RandomRDDGeneration.scala\n",
      "spark-2.4.4-bin-hadoop2.7/examples/src/main/scala/org/apache/spark/examples/mllib/RandomForestRegressionExample.scala\n",
      "spark-2.4.4-bin-hadoop2.7/examples/src/main/scala/org/apache/spark/examples/mllib/RandomForestClassificationExample.scala\n",
      "spark-2.4.4-bin-hadoop2.7/examples/src/main/scala/org/apache/spark/examples/mllib/PrefixSpanExample.scala\n",
      "spark-2.4.4-bin-hadoop2.7/examples/src/main/scala/org/apache/spark/examples/mllib/PowerIterationClusteringExample.scala\n",
      "spark-2.4.4-bin-hadoop2.7/examples/src/main/scala/org/apache/spark/examples/mllib/PMMLModelExportExample.scala\n",
      "spark-2.4.4-bin-hadoop2.7/examples/src/main/scala/org/apache/spark/examples/mllib/PCAOnSourceVectorExample.scala\n",
      "spark-2.4.4-bin-hadoop2.7/examples/src/main/scala/org/apache/spark/examples/mllib/PCAOnRowMatrixExample.scala\n",
      "spark-2.4.4-bin-hadoop2.7/examples/src/main/scala/org/apache/spark/examples/mllib/PCAExample.scala\n",
      "spark-2.4.4-bin-hadoop2.7/examples/src/main/scala/org/apache/spark/examples/mllib/NormalizerExample.scala\n",
      "spark-2.4.4-bin-hadoop2.7/examples/src/main/scala/org/apache/spark/examples/mllib/NaiveBayesExample.scala\n",
      "spark-2.4.4-bin-hadoop2.7/examples/src/main/scala/org/apache/spark/examples/mllib/MultivariateSummarizer.scala\n",
      "spark-2.4.4-bin-hadoop2.7/examples/src/main/scala/org/apache/spark/examples/mllib/MulticlassMetricsExample.scala\n",
      "spark-2.4.4-bin-hadoop2.7/examples/src/main/scala/org/apache/spark/examples/mllib/MultiLabelMetricsExample.scala\n",
      "spark-2.4.4-bin-hadoop2.7/examples/src/main/scala/org/apache/spark/examples/mllib/LogisticRegressionWithLBFGSExample.scala\n",
      "spark-2.4.4-bin-hadoop2.7/examples/src/main/scala/org/apache/spark/examples/mllib/LinearRegressionWithSGDExample.scala\n",
      "spark-2.4.4-bin-hadoop2.7/examples/src/main/scala/org/apache/spark/examples/mllib/LatentDirichletAllocationExample.scala\n",
      "spark-2.4.4-bin-hadoop2.7/examples/src/main/scala/org/apache/spark/examples/mllib/LDAExample.scala\n",
      "spark-2.4.4-bin-hadoop2.7/examples/src/main/scala/org/apache/spark/examples/mllib/LBFGSExample.scala\n",
      "spark-2.4.4-bin-hadoop2.7/examples/src/main/scala/org/apache/spark/examples/mllib/KernelDensityEstimationExample.scala\n",
      "spark-2.4.4-bin-hadoop2.7/examples/src/main/scala/org/apache/spark/examples/mllib/KMeansExample.scala\n",
      "spark-2.4.4-bin-hadoop2.7/examples/src/main/scala/org/apache/spark/examples/mllib/IsotonicRegressionExample.scala\n",
      "spark-2.4.4-bin-hadoop2.7/examples/src/main/scala/org/apache/spark/examples/mllib/HypothesisTestingKolmogorovSmirnovTestExample.scala\n",
      "spark-2.4.4-bin-hadoop2.7/examples/src/main/scala/org/apache/spark/examples/mllib/HypothesisTestingExample.scala\n",
      "spark-2.4.4-bin-hadoop2.7/examples/src/main/scala/org/apache/spark/examples/mllib/GradientBoostingRegressionExample.scala\n",
      "spark-2.4.4-bin-hadoop2.7/examples/src/main/scala/org/apache/spark/examples/mllib/GradientBoostingClassificationExample.scala\n",
      "spark-2.4.4-bin-hadoop2.7/examples/src/main/scala/org/apache/spark/examples/mllib/GaussianMixtureExample.scala\n",
      "spark-2.4.4-bin-hadoop2.7/examples/src/main/scala/org/apache/spark/examples/mllib/FPGrowthExample.scala\n",
      "spark-2.4.4-bin-hadoop2.7/examples/src/main/scala/org/apache/spark/examples/mllib/RankingMetricsExample.scala\n",
      "spark-2.4.4-bin-hadoop2.7/examples/src/main/scala/org/apache/spark/examples/mllib/MovieLensALS.scala\n",
      "spark-2.4.4-bin-hadoop2.7/examples/src/main/scala/org/apache/spark/examples/mllib/LinearRegression.scala\n",
      "spark-2.4.4-bin-hadoop2.7/examples/src/main/scala/org/apache/spark/examples/mllib/GradientBoostedTreesRunner.scala\n",
      "spark-2.4.4-bin-hadoop2.7/examples/src/main/scala/org/apache/spark/examples/mllib/DecisionTreeRunner.scala\n",
      "spark-2.4.4-bin-hadoop2.7/examples/src/main/scala/org/apache/spark/examples/mllib/BinaryClassification.scala\n",
      "spark-2.4.4-bin-hadoop2.7/examples/src/main/scala/org/apache/spark/examples/ml/\n",
      "spark-2.4.4-bin-hadoop2.7/examples/src/main/scala/org/apache/spark/examples/ml/Word2VecExample.scala\n",
      "spark-2.4.4-bin-hadoop2.7/examples/src/main/scala/org/apache/spark/examples/ml/VectorSlicerExample.scala\n",
      "spark-2.4.4-bin-hadoop2.7/examples/src/main/scala/org/apache/spark/examples/ml/VectorSizeHintExample.scala\n",
      "spark-2.4.4-bin-hadoop2.7/examples/src/main/scala/org/apache/spark/examples/ml/VectorIndexerExample.scala\n",
      "spark-2.4.4-bin-hadoop2.7/examples/src/main/scala/org/apache/spark/examples/ml/VectorAssemblerExample.scala\n",
      "spark-2.4.4-bin-hadoop2.7/examples/src/main/scala/org/apache/spark/examples/ml/UnaryTransformerExample.scala\n",
      "spark-2.4.4-bin-hadoop2.7/examples/src/main/scala/org/apache/spark/examples/ml/TokenizerExample.scala\n",
      "spark-2.4.4-bin-hadoop2.7/examples/src/main/scala/org/apache/spark/examples/ml/TfIdfExample.scala\n",
      "spark-2.4.4-bin-hadoop2.7/examples/src/main/scala/org/apache/spark/examples/ml/SummarizerExample.scala\n",
      "spark-2.4.4-bin-hadoop2.7/examples/src/main/scala/org/apache/spark/examples/ml/StringIndexerExample.scala\n",
      "spark-2.4.4-bin-hadoop2.7/examples/src/main/scala/org/apache/spark/examples/ml/StopWordsRemoverExample.scala\n",
      "spark-2.4.4-bin-hadoop2.7/examples/src/main/scala/org/apache/spark/examples/ml/StandardScalerExample.scala\n",
      "spark-2.4.4-bin-hadoop2.7/examples/src/main/scala/org/apache/spark/examples/ml/SQLTransformerExample.scala\n",
      "spark-2.4.4-bin-hadoop2.7/examples/src/main/scala/org/apache/spark/examples/ml/RandomForestRegressorExample.scala\n",
      "spark-2.4.4-bin-hadoop2.7/examples/src/main/scala/org/apache/spark/examples/ml/RandomForestExample.scala\n",
      "spark-2.4.4-bin-hadoop2.7/examples/src/main/scala/org/apache/spark/examples/ml/RFormulaExample.scala\n",
      "spark-2.4.4-bin-hadoop2.7/examples/src/main/scala/org/apache/spark/examples/ml/QuantileDiscretizerExample.scala\n",
      "spark-2.4.4-bin-hadoop2.7/examples/src/main/scala/org/apache/spark/examples/ml/PowerIterationClusteringExample.scala\n",
      "spark-2.4.4-bin-hadoop2.7/examples/src/main/scala/org/apache/spark/examples/ml/PolynomialExpansionExample.scala\n",
      "spark-2.4.4-bin-hadoop2.7/examples/src/main/scala/org/apache/spark/examples/ml/PipelineExample.scala\n",
      "spark-2.4.4-bin-hadoop2.7/examples/src/main/scala/org/apache/spark/examples/ml/PCAExample.scala\n",
      "spark-2.4.4-bin-hadoop2.7/examples/src/main/scala/org/apache/spark/examples/ml/OneVsRestExample.scala\n",
      "spark-2.4.4-bin-hadoop2.7/examples/src/main/scala/org/apache/spark/examples/ml/NormalizerExample.scala\n",
      "spark-2.4.4-bin-hadoop2.7/examples/src/main/scala/org/apache/spark/examples/ml/NaiveBayesExample.scala\n",
      "spark-2.4.4-bin-hadoop2.7/examples/src/main/scala/org/apache/spark/examples/ml/NGramExample.scala\n",
      "spark-2.4.4-bin-hadoop2.7/examples/src/main/scala/org/apache/spark/examples/ml/MultilayerPerceptronClassifierExample.scala\n",
      "spark-2.4.4-bin-hadoop2.7/examples/src/main/scala/org/apache/spark/examples/ml/MulticlassLogisticRegressionWithElasticNetExample.scala\n",
      "spark-2.4.4-bin-hadoop2.7/examples/src/main/scala/org/apache/spark/examples/ml/ModelSelectionViaTrainValidationSplitExample.scala\n",
      "spark-2.4.4-bin-hadoop2.7/examples/src/main/scala/org/apache/spark/examples/ml/ModelSelectionViaCrossValidationExample.scala\n",
      "spark-2.4.4-bin-hadoop2.7/examples/src/main/scala/org/apache/spark/examples/ml/MinMaxScalerExample.scala\n",
      "spark-2.4.4-bin-hadoop2.7/examples/src/main/scala/org/apache/spark/examples/ml/MinHashLSHExample.scala\n",
      "spark-2.4.4-bin-hadoop2.7/examples/src/main/scala/org/apache/spark/examples/ml/MaxAbsScalerExample.scala\n",
      "spark-2.4.4-bin-hadoop2.7/examples/src/main/scala/org/apache/spark/examples/ml/LogisticRegressionWithElasticNetExample.scala\n",
      "spark-2.4.4-bin-hadoop2.7/examples/src/main/scala/org/apache/spark/examples/ml/LogisticRegressionSummaryExample.scala\n",
      "spark-2.4.4-bin-hadoop2.7/examples/src/main/scala/org/apache/spark/examples/ml/LogisticRegressionExample.scala\n",
      "spark-2.4.4-bin-hadoop2.7/examples/src/main/scala/org/apache/spark/examples/ml/LinearSVCExample.scala\n",
      "spark-2.4.4-bin-hadoop2.7/examples/src/main/scala/org/apache/spark/examples/ml/LinearRegressionWithElasticNetExample.scala\n",
      "spark-2.4.4-bin-hadoop2.7/examples/src/main/scala/org/apache/spark/examples/ml/LinearRegressionExample.scala\n",
      "spark-2.4.4-bin-hadoop2.7/examples/src/main/scala/org/apache/spark/examples/ml/LDAExample.scala\n",
      "spark-2.4.4-bin-hadoop2.7/examples/src/main/scala/org/apache/spark/examples/ml/KMeansExample.scala\n",
      "spark-2.4.4-bin-hadoop2.7/examples/src/main/scala/org/apache/spark/examples/ml/IsotonicRegressionExample.scala\n",
      "spark-2.4.4-bin-hadoop2.7/examples/src/main/scala/org/apache/spark/examples/ml/InteractionExample.scala\n",
      "spark-2.4.4-bin-hadoop2.7/examples/src/main/scala/org/apache/spark/examples/ml/IndexToStringExample.scala\n",
      "spark-2.4.4-bin-hadoop2.7/examples/src/main/scala/org/apache/spark/examples/ml/ImputerExample.scala\n",
      "spark-2.4.4-bin-hadoop2.7/examples/src/main/scala/org/apache/spark/examples/ml/GradientBoostedTreeRegressorExample.scala\n",
      "spark-2.4.4-bin-hadoop2.7/examples/src/main/scala/org/apache/spark/examples/ml/GeneralizedLinearRegressionExample.scala\n",
      "spark-2.4.4-bin-hadoop2.7/examples/src/main/scala/org/apache/spark/examples/ml/GaussianMixtureExample.scala\n",
      "spark-2.4.4-bin-hadoop2.7/examples/src/main/scala/org/apache/spark/examples/ml/GBTExample.scala\n",
      "spark-2.4.4-bin-hadoop2.7/examples/src/main/scala/org/apache/spark/examples/ml/FeatureHasherExample.scala\n",
      "spark-2.4.4-bin-hadoop2.7/examples/src/main/scala/org/apache/spark/examples/ml/EstimatorTransformerParamExample.scala\n",
      "spark-2.4.4-bin-hadoop2.7/examples/src/main/scala/org/apache/spark/examples/ml/ElementwiseProductExample.scala\n",
      "spark-2.4.4-bin-hadoop2.7/examples/src/main/scala/org/apache/spark/examples/ml/DeveloperApiExample.scala\n",
      "spark-2.4.4-bin-hadoop2.7/examples/src/main/scala/org/apache/spark/examples/ml/DecisionTreeRegressionExample.scala\n",
      "spark-2.4.4-bin-hadoop2.7/examples/src/main/scala/org/apache/spark/examples/ml/DecisionTreeExample.scala\n",
      "spark-2.4.4-bin-hadoop2.7/examples/src/main/scala/org/apache/spark/examples/ml/DataFrameExample.scala\n",
      "spark-2.4.4-bin-hadoop2.7/examples/src/main/scala/org/apache/spark/examples/ml/DCTExample.scala\n",
      "spark-2.4.4-bin-hadoop2.7/examples/src/main/scala/org/apache/spark/examples/ml/CountVectorizerExample.scala\n",
      "spark-2.4.4-bin-hadoop2.7/examples/src/main/scala/org/apache/spark/examples/ml/CorrelationExample.scala\n",
      "spark-2.4.4-bin-hadoop2.7/examples/src/main/scala/org/apache/spark/examples/ml/ChiSquareTestExample.scala\n",
      "spark-2.4.4-bin-hadoop2.7/examples/src/main/scala/org/apache/spark/examples/ml/ChiSqSelectorExample.scala\n",
      "spark-2.4.4-bin-hadoop2.7/examples/src/main/scala/org/apache/spark/examples/ml/BucketizerExample.scala\n",
      "spark-2.4.4-bin-hadoop2.7/examples/src/main/scala/org/apache/spark/examples/ml/BucketedRandomProjectionLSHExample.scala\n",
      "spark-2.4.4-bin-hadoop2.7/examples/src/main/scala/org/apache/spark/examples/ml/BinarizerExample.scala\n",
      "spark-2.4.4-bin-hadoop2.7/examples/src/main/scala/org/apache/spark/examples/ml/ALSExample.scala\n",
      "spark-2.4.4-bin-hadoop2.7/examples/src/main/scala/org/apache/spark/examples/ml/AFTSurvivalRegressionExample.scala\n",
      "spark-2.4.4-bin-hadoop2.7/examples/src/main/scala/org/apache/spark/examples/ml/RandomForestClassifierExample.scala\n",
      "spark-2.4.4-bin-hadoop2.7/examples/src/main/scala/org/apache/spark/examples/ml/PrefixSpanExample.scala\n",
      "spark-2.4.4-bin-hadoop2.7/examples/src/main/scala/org/apache/spark/examples/ml/OneHotEncoderEstimatorExample.scala\n",
      "spark-2.4.4-bin-hadoop2.7/examples/src/main/scala/org/apache/spark/examples/ml/GradientBoostedTreeClassifierExample.scala\n",
      "spark-2.4.4-bin-hadoop2.7/examples/src/main/scala/org/apache/spark/examples/ml/FPGrowthExample.scala\n",
      "spark-2.4.4-bin-hadoop2.7/examples/src/main/scala/org/apache/spark/examples/ml/DecisionTreeClassificationExample.scala\n",
      "spark-2.4.4-bin-hadoop2.7/examples/src/main/scala/org/apache/spark/examples/ml/BisectingKMeansExample.scala\n",
      "spark-2.4.4-bin-hadoop2.7/examples/src/main/scala/org/apache/spark/examples/graphx/\n",
      "spark-2.4.4-bin-hadoop2.7/examples/src/main/scala/org/apache/spark/examples/graphx/TriangleCountingExample.scala\n",
      "spark-2.4.4-bin-hadoop2.7/examples/src/main/scala/org/apache/spark/examples/graphx/SynthBenchmark.scala\n",
      "spark-2.4.4-bin-hadoop2.7/examples/src/main/scala/org/apache/spark/examples/graphx/SSSPExample.scala\n",
      "spark-2.4.4-bin-hadoop2.7/examples/src/main/scala/org/apache/spark/examples/graphx/PageRankExample.scala\n",
      "spark-2.4.4-bin-hadoop2.7/examples/src/main/scala/org/apache/spark/examples/graphx/LiveJournalPageRank.scala\n",
      "spark-2.4.4-bin-hadoop2.7/examples/src/main/scala/org/apache/spark/examples/graphx/ConnectedComponentsExample.scala\n",
      "spark-2.4.4-bin-hadoop2.7/examples/src/main/scala/org/apache/spark/examples/graphx/ComprehensiveExample.scala\n",
      "spark-2.4.4-bin-hadoop2.7/examples/src/main/scala/org/apache/spark/examples/graphx/Analytics.scala\n",
      "spark-2.4.4-bin-hadoop2.7/examples/src/main/scala/org/apache/spark/examples/graphx/AggregateMessagesExample.scala\n",
      "spark-2.4.4-bin-hadoop2.7/examples/src/main/scala/org/apache/spark/examples/SparkTC.scala\n",
      "spark-2.4.4-bin-hadoop2.7/examples/src/main/scala/org/apache/spark/examples/SparkRemoteFileTest.scala\n",
      "spark-2.4.4-bin-hadoop2.7/examples/src/main/scala/org/apache/spark/examples/SparkPi.scala\n",
      "spark-2.4.4-bin-hadoop2.7/examples/src/main/scala/org/apache/spark/examples/SparkPageRank.scala\n",
      "spark-2.4.4-bin-hadoop2.7/examples/src/main/scala/org/apache/spark/examples/SparkLR.scala\n",
      "spark-2.4.4-bin-hadoop2.7/examples/src/main/scala/org/apache/spark/examples/SparkKMeans.scala\n",
      "spark-2.4.4-bin-hadoop2.7/examples/src/main/scala/org/apache/spark/examples/SparkHdfsLR.scala\n",
      "spark-2.4.4-bin-hadoop2.7/examples/src/main/scala/org/apache/spark/examples/SparkALS.scala\n",
      "spark-2.4.4-bin-hadoop2.7/examples/src/main/scala/org/apache/spark/examples/SkewedGroupByTest.scala\n",
      "spark-2.4.4-bin-hadoop2.7/examples/src/main/scala/org/apache/spark/examples/SimpleSkewedGroupByTest.scala\n",
      "spark-2.4.4-bin-hadoop2.7/examples/src/main/scala/org/apache/spark/examples/MultiBroadcastTest.scala\n",
      "spark-2.4.4-bin-hadoop2.7/examples/src/main/scala/org/apache/spark/examples/LocalPi.scala\n",
      "spark-2.4.4-bin-hadoop2.7/examples/src/main/scala/org/apache/spark/examples/LocalLR.scala\n",
      "spark-2.4.4-bin-hadoop2.7/examples/src/main/scala/org/apache/spark/examples/LocalKMeans.scala\n",
      "spark-2.4.4-bin-hadoop2.7/examples/src/main/scala/org/apache/spark/examples/LocalFileLR.scala\n",
      "spark-2.4.4-bin-hadoop2.7/examples/src/main/scala/org/apache/spark/examples/LocalALS.scala\n",
      "spark-2.4.4-bin-hadoop2.7/examples/src/main/scala/org/apache/spark/examples/GroupByTest.scala\n",
      "spark-2.4.4-bin-hadoop2.7/examples/src/main/scala/org/apache/spark/examples/ExceptionHandlingTest.scala\n",
      "spark-2.4.4-bin-hadoop2.7/examples/src/main/scala/org/apache/spark/examples/DriverSubmissionTest.scala\n",
      "spark-2.4.4-bin-hadoop2.7/examples/src/main/scala/org/apache/spark/examples/BroadcastTest.scala\n",
      "spark-2.4.4-bin-hadoop2.7/examples/src/main/scala/org/apache/spark/examples/streaming/\n",
      "spark-2.4.4-bin-hadoop2.7/examples/src/main/scala/org/apache/spark/examples/streaming/clickstream/\n",
      "spark-2.4.4-bin-hadoop2.7/examples/src/main/scala/org/apache/spark/examples/streaming/clickstream/PageViewStream.scala\n",
      "spark-2.4.4-bin-hadoop2.7/examples/src/main/scala/org/apache/spark/examples/streaming/clickstream/PageViewGenerator.scala\n",
      "spark-2.4.4-bin-hadoop2.7/examples/src/main/scala/org/apache/spark/examples/streaming/StreamingExamples.scala\n",
      "spark-2.4.4-bin-hadoop2.7/examples/src/main/scala/org/apache/spark/examples/streaming/StatefulNetworkWordCount.scala\n",
      "spark-2.4.4-bin-hadoop2.7/examples/src/main/scala/org/apache/spark/examples/streaming/SqlNetworkWordCount.scala\n",
      "spark-2.4.4-bin-hadoop2.7/examples/src/main/scala/org/apache/spark/examples/streaming/RecoverableNetworkWordCount.scala\n",
      "spark-2.4.4-bin-hadoop2.7/examples/src/main/scala/org/apache/spark/examples/streaming/RawNetworkGrep.scala\n",
      "spark-2.4.4-bin-hadoop2.7/examples/src/main/scala/org/apache/spark/examples/streaming/QueueStream.scala\n",
      "spark-2.4.4-bin-hadoop2.7/examples/src/main/scala/org/apache/spark/examples/streaming/NetworkWordCount.scala\n",
      "spark-2.4.4-bin-hadoop2.7/examples/src/main/scala/org/apache/spark/examples/streaming/HdfsWordCount.scala\n",
      "spark-2.4.4-bin-hadoop2.7/examples/src/main/scala/org/apache/spark/examples/streaming/DirectKafkaWordCount.scala\n",
      "spark-2.4.4-bin-hadoop2.7/examples/src/main/scala/org/apache/spark/examples/streaming/CustomReceiver.scala\n",
      "spark-2.4.4-bin-hadoop2.7/examples/src/main/scala/org/apache/spark/examples/sql/\n",
      "spark-2.4.4-bin-hadoop2.7/examples/src/main/scala/org/apache/spark/examples/sql/streaming/\n",
      "spark-2.4.4-bin-hadoop2.7/examples/src/main/scala/org/apache/spark/examples/sql/streaming/StructuredSessionization.scala\n",
      "spark-2.4.4-bin-hadoop2.7/examples/src/main/scala/org/apache/spark/examples/sql/streaming/StructuredNetworkWordCountWindowed.scala\n",
      "spark-2.4.4-bin-hadoop2.7/examples/src/main/scala/org/apache/spark/examples/sql/streaming/StructuredNetworkWordCount.scala\n",
      "spark-2.4.4-bin-hadoop2.7/examples/src/main/scala/org/apache/spark/examples/sql/streaming/StructuredKafkaWordCount.scala\n",
      "spark-2.4.4-bin-hadoop2.7/examples/src/main/scala/org/apache/spark/examples/sql/hive/\n",
      "spark-2.4.4-bin-hadoop2.7/examples/src/main/scala/org/apache/spark/examples/sql/hive/SparkHiveExample.scala\n",
      "spark-2.4.4-bin-hadoop2.7/examples/src/main/scala/org/apache/spark/examples/sql/UserDefinedUntypedAggregation.scala\n",
      "spark-2.4.4-bin-hadoop2.7/examples/src/main/scala/org/apache/spark/examples/sql/UserDefinedTypedAggregation.scala\n",
      "spark-2.4.4-bin-hadoop2.7/examples/src/main/scala/org/apache/spark/examples/sql/RDDRelation.scala\n",
      "spark-2.4.4-bin-hadoop2.7/examples/src/main/scala/org/apache/spark/examples/sql/SparkSQLExample.scala\n",
      "spark-2.4.4-bin-hadoop2.7/examples/src/main/scala/org/apache/spark/examples/sql/SQLDataSourceExample.scala\n",
      "spark-2.4.4-bin-hadoop2.7/examples/src/main/scala/org/apache/spark/examples/pythonconverters/\n",
      "spark-2.4.4-bin-hadoop2.7/examples/src/main/scala/org/apache/spark/examples/pythonconverters/AvroConverters.scala\n",
      "spark-2.4.4-bin-hadoop2.7/examples/src/main/scala/org/apache/spark/examples/LogQuery.scala\n",
      "spark-2.4.4-bin-hadoop2.7/examples/src/main/scala/org/apache/spark/examples/HdfsTest.scala\n",
      "spark-2.4.4-bin-hadoop2.7/examples/src/main/scala/org/apache/spark/examples/DFSReadWriteTest.scala\n",
      "spark-2.4.4-bin-hadoop2.7/examples/src/main/resources/\n",
      "spark-2.4.4-bin-hadoop2.7/examples/src/main/resources/users.parquet\n",
      "spark-2.4.4-bin-hadoop2.7/examples/src/main/resources/users.orc\n",
      "spark-2.4.4-bin-hadoop2.7/examples/src/main/resources/users.avro\n",
      "spark-2.4.4-bin-hadoop2.7/examples/src/main/resources/user.avsc\n",
      "spark-2.4.4-bin-hadoop2.7/examples/src/main/resources/people.txt\n",
      "spark-2.4.4-bin-hadoop2.7/examples/src/main/resources/people.json\n",
      "spark-2.4.4-bin-hadoop2.7/examples/src/main/resources/people.csv\n",
      "spark-2.4.4-bin-hadoop2.7/examples/src/main/resources/kv1.txt\n",
      "spark-2.4.4-bin-hadoop2.7/examples/src/main/resources/full_user.avsc\n",
      "spark-2.4.4-bin-hadoop2.7/examples/src/main/resources/employees.json\n",
      "spark-2.4.4-bin-hadoop2.7/examples/src/main/r/\n",
      "spark-2.4.4-bin-hadoop2.7/examples/src/main/r/streaming/\n",
      "spark-2.4.4-bin-hadoop2.7/examples/src/main/r/streaming/structured_network_wordcount.R\n",
      "spark-2.4.4-bin-hadoop2.7/examples/src/main/r/ml/\n",
      "spark-2.4.4-bin-hadoop2.7/examples/src/main/r/ml/svmLinear.R\n",
      "spark-2.4.4-bin-hadoop2.7/examples/src/main/r/ml/survreg.R\n",
      "spark-2.4.4-bin-hadoop2.7/examples/src/main/r/ml/randomForest.R\n",
      "spark-2.4.4-bin-hadoop2.7/examples/src/main/r/ml/naiveBayes.R\n",
      "spark-2.4.4-bin-hadoop2.7/examples/src/main/r/ml/mlp.R\n",
      "spark-2.4.4-bin-hadoop2.7/examples/src/main/r/ml/ml.R\n",
      "spark-2.4.4-bin-hadoop2.7/examples/src/main/r/ml/logit.R\n",
      "spark-2.4.4-bin-hadoop2.7/examples/src/main/r/ml/lda.R\n",
      "spark-2.4.4-bin-hadoop2.7/examples/src/main/r/ml/kstest.R\n",
      "spark-2.4.4-bin-hadoop2.7/examples/src/main/r/ml/kmeans.R\n",
      "spark-2.4.4-bin-hadoop2.7/examples/src/main/r/ml/isoreg.R\n",
      "spark-2.4.4-bin-hadoop2.7/examples/src/main/r/ml/glm.R\n",
      "spark-2.4.4-bin-hadoop2.7/examples/src/main/r/ml/gbt.R\n",
      "spark-2.4.4-bin-hadoop2.7/examples/src/main/r/ml/gaussianMixture.R\n",
      "spark-2.4.4-bin-hadoop2.7/examples/src/main/r/ml/fpm.R\n",
      "spark-2.4.4-bin-hadoop2.7/examples/src/main/r/ml/decisionTree.R\n",
      "spark-2.4.4-bin-hadoop2.7/examples/src/main/r/ml/bisectingKmeans.R\n",
      "spark-2.4.4-bin-hadoop2.7/examples/src/main/r/ml/als.R\n",
      "spark-2.4.4-bin-hadoop2.7/examples/src/main/r/dataframe.R\n",
      "spark-2.4.4-bin-hadoop2.7/examples/src/main/r/data-manipulation.R\n",
      "spark-2.4.4-bin-hadoop2.7/examples/src/main/r/RSparkSQLExample.R\n",
      "spark-2.4.4-bin-hadoop2.7/examples/src/main/python/\n",
      "spark-2.4.4-bin-hadoop2.7/examples/src/main/python/wordcount.py\n",
      "spark-2.4.4-bin-hadoop2.7/examples/src/main/python/transitive_closure.py\n",
      "spark-2.4.4-bin-hadoop2.7/examples/src/main/python/streaming/\n",
      "spark-2.4.4-bin-hadoop2.7/examples/src/main/python/streaming/stateful_network_wordcount.py\n",
      "spark-2.4.4-bin-hadoop2.7/examples/src/main/python/streaming/sql_network_wordcount.py\n",
      "spark-2.4.4-bin-hadoop2.7/examples/src/main/python/streaming/queue_stream.py\n",
      "spark-2.4.4-bin-hadoop2.7/examples/src/main/python/streaming/network_wordjoinsentiments.py\n",
      "spark-2.4.4-bin-hadoop2.7/examples/src/main/python/streaming/network_wordcount.py\n",
      "spark-2.4.4-bin-hadoop2.7/examples/src/main/python/streaming/hdfs_wordcount.py\n",
      "spark-2.4.4-bin-hadoop2.7/examples/src/main/python/streaming/recoverable_network_wordcount.py\n",
      "spark-2.4.4-bin-hadoop2.7/examples/src/main/python/streaming/kafka_wordcount.py\n",
      "spark-2.4.4-bin-hadoop2.7/examples/src/main/python/streaming/flume_wordcount.py\n",
      "spark-2.4.4-bin-hadoop2.7/examples/src/main/python/streaming/direct_kafka_wordcount.py\n",
      "spark-2.4.4-bin-hadoop2.7/examples/src/main/python/status_api_demo.py\n",
      "spark-2.4.4-bin-hadoop2.7/examples/src/main/python/sql/\n",
      "spark-2.4.4-bin-hadoop2.7/examples/src/main/python/sql/streaming/\n",
      "spark-2.4.4-bin-hadoop2.7/examples/src/main/python/sql/streaming/structured_network_wordcount_windowed.py\n",
      "spark-2.4.4-bin-hadoop2.7/examples/src/main/python/sql/streaming/structured_network_wordcount.py\n",
      "spark-2.4.4-bin-hadoop2.7/examples/src/main/python/sql/streaming/structured_kafka_wordcount.py\n",
      "spark-2.4.4-bin-hadoop2.7/examples/src/main/python/sql/basic.py\n",
      "spark-2.4.4-bin-hadoop2.7/examples/src/main/python/sql/hive.py\n",
      "spark-2.4.4-bin-hadoop2.7/examples/src/main/python/sql/datasource.py\n",
      "spark-2.4.4-bin-hadoop2.7/examples/src/main/python/sql/arrow.py\n",
      "spark-2.4.4-bin-hadoop2.7/examples/src/main/python/sort.py\n",
      "spark-2.4.4-bin-hadoop2.7/examples/src/main/python/pi.py\n",
      "spark-2.4.4-bin-hadoop2.7/examples/src/main/python/parquet_inputformat.py\n",
      "spark-2.4.4-bin-hadoop2.7/examples/src/main/python/pagerank.py\n",
      "spark-2.4.4-bin-hadoop2.7/examples/src/main/python/mllib/\n",
      "spark-2.4.4-bin-hadoop2.7/examples/src/main/python/mllib/word2vec_example.py\n",
      "spark-2.4.4-bin-hadoop2.7/examples/src/main/python/mllib/word2vec.py\n",
      "spark-2.4.4-bin-hadoop2.7/examples/src/main/python/mllib/tf_idf_example.py\n",
      "spark-2.4.4-bin-hadoop2.7/examples/src/main/python/mllib/svm_with_sgd_example.py\n",
      "spark-2.4.4-bin-hadoop2.7/examples/src/main/python/mllib/svd_example.py\n",
      "spark-2.4.4-bin-hadoop2.7/examples/src/main/python/mllib/summary_statistics_example.py\n",
      "spark-2.4.4-bin-hadoop2.7/examples/src/main/python/mllib/streaming_linear_regression_example.py\n",
      "spark-2.4.4-bin-hadoop2.7/examples/src/main/python/mllib/streaming_k_means_example.py\n",
      "spark-2.4.4-bin-hadoop2.7/examples/src/main/python/mllib/stratified_sampling_example.py\n",
      "spark-2.4.4-bin-hadoop2.7/examples/src/main/python/mllib/sampled_rdds.py\n",
      "spark-2.4.4-bin-hadoop2.7/examples/src/main/python/mllib/regression_metrics_example.py\n",
      "spark-2.4.4-bin-hadoop2.7/examples/src/main/python/mllib/recommendation_example.py\n",
      "spark-2.4.4-bin-hadoop2.7/examples/src/main/python/mllib/random_rdd_generation.py\n",
      "spark-2.4.4-bin-hadoop2.7/examples/src/main/python/mllib/random_forest_regression_example.py\n",
      "spark-2.4.4-bin-hadoop2.7/examples/src/main/python/mllib/random_forest_classification_example.py\n",
      "spark-2.4.4-bin-hadoop2.7/examples/src/main/python/mllib/power_iteration_clustering_example.py\n",
      "spark-2.4.4-bin-hadoop2.7/examples/src/main/python/mllib/pca_rowmatrix_example.py\n",
      "spark-2.4.4-bin-hadoop2.7/examples/src/main/python/mllib/normalizer_example.py\n",
      "spark-2.4.4-bin-hadoop2.7/examples/src/main/python/mllib/naive_bayes_example.py\n",
      "spark-2.4.4-bin-hadoop2.7/examples/src/main/python/mllib/multi_label_metrics_example.py\n",
      "spark-2.4.4-bin-hadoop2.7/examples/src/main/python/mllib/logistic_regression_with_lbfgs_example.py\n",
      "spark-2.4.4-bin-hadoop2.7/examples/src/main/python/mllib/logistic_regression.py\n",
      "spark-2.4.4-bin-hadoop2.7/examples/src/main/python/mllib/linear_regression_with_sgd_example.py\n",
      "spark-2.4.4-bin-hadoop2.7/examples/src/main/python/mllib/latent_dirichlet_allocation_example.py\n",
      "spark-2.4.4-bin-hadoop2.7/examples/src/main/python/mllib/kmeans.py\n",
      "spark-2.4.4-bin-hadoop2.7/examples/src/main/python/mllib/kernel_density_estimation_example.py\n",
      "spark-2.4.4-bin-hadoop2.7/examples/src/main/python/mllib/k_means_example.py\n",
      "spark-2.4.4-bin-hadoop2.7/examples/src/main/python/mllib/hypothesis_testing_kolmogorov_smirnov_test_example.py\n",
      "spark-2.4.4-bin-hadoop2.7/examples/src/main/python/mllib/hypothesis_testing_example.py\n",
      "spark-2.4.4-bin-hadoop2.7/examples/src/main/python/mllib/gradient_boosting_regression_example.py\n",
      "spark-2.4.4-bin-hadoop2.7/examples/src/main/python/mllib/gradient_boosting_classification_example.py\n",
      "spark-2.4.4-bin-hadoop2.7/examples/src/main/python/mllib/gaussian_mixture_model.py\n",
      "spark-2.4.4-bin-hadoop2.7/examples/src/main/python/mllib/gaussian_mixture_example.py\n",
      "spark-2.4.4-bin-hadoop2.7/examples/src/main/python/mllib/fpgrowth_example.py\n",
      "spark-2.4.4-bin-hadoop2.7/examples/src/main/python/mllib/elementwise_product_example.py\n",
      "spark-2.4.4-bin-hadoop2.7/examples/src/main/python/mllib/decision_tree_regression_example.py\n",
      "spark-2.4.4-bin-hadoop2.7/examples/src/main/python/mllib/decision_tree_classification_example.py\n",
      "spark-2.4.4-bin-hadoop2.7/examples/src/main/python/mllib/correlations_example.py\n",
      "spark-2.4.4-bin-hadoop2.7/examples/src/main/python/mllib/correlations.py\n",
      "spark-2.4.4-bin-hadoop2.7/examples/src/main/python/mllib/binary_classification_metrics_example.py\n",
      "spark-2.4.4-bin-hadoop2.7/examples/src/main/python/mllib/standard_scaler_example.py\n",
      "spark-2.4.4-bin-hadoop2.7/examples/src/main/python/mllib/ranking_metrics_example.py\n",
      "spark-2.4.4-bin-hadoop2.7/examples/src/main/python/mllib/multi_class_metrics_example.py\n",
      "spark-2.4.4-bin-hadoop2.7/examples/src/main/python/mllib/isotonic_regression_example.py\n",
      "spark-2.4.4-bin-hadoop2.7/examples/src/main/python/mllib/bisecting_k_means_example.py\n",
      "spark-2.4.4-bin-hadoop2.7/examples/src/main/python/ml/\n",
      "spark-2.4.4-bin-hadoop2.7/examples/src/main/python/ml/word2vec_example.py\n",
      "spark-2.4.4-bin-hadoop2.7/examples/src/main/python/ml/vector_slicer_example.py\n",
      "spark-2.4.4-bin-hadoop2.7/examples/src/main/python/ml/vector_size_hint_example.py\n",
      "spark-2.4.4-bin-hadoop2.7/examples/src/main/python/ml/vector_indexer_example.py\n",
      "spark-2.4.4-bin-hadoop2.7/examples/src/main/python/ml/vector_assembler_example.py\n",
      "spark-2.4.4-bin-hadoop2.7/examples/src/main/python/ml/train_validation_split.py\n",
      "spark-2.4.4-bin-hadoop2.7/examples/src/main/python/ml/tokenizer_example.py\n",
      "spark-2.4.4-bin-hadoop2.7/examples/src/main/python/ml/tf_idf_example.py\n",
      "spark-2.4.4-bin-hadoop2.7/examples/src/main/python/ml/summarizer_example.py\n",
      "spark-2.4.4-bin-hadoop2.7/examples/src/main/python/ml/string_indexer_example.py\n",
      "spark-2.4.4-bin-hadoop2.7/examples/src/main/python/ml/stopwords_remover_example.py\n",
      "spark-2.4.4-bin-hadoop2.7/examples/src/main/python/ml/standard_scaler_example.py\n",
      "spark-2.4.4-bin-hadoop2.7/examples/src/main/python/ml/sql_transformer.py\n",
      "spark-2.4.4-bin-hadoop2.7/examples/src/main/python/ml/rformula_example.py\n",
      "spark-2.4.4-bin-hadoop2.7/examples/src/main/python/ml/random_forest_regressor_example.py\n",
      "spark-2.4.4-bin-hadoop2.7/examples/src/main/python/ml/random_forest_classifier_example.py\n",
      "spark-2.4.4-bin-hadoop2.7/examples/src/main/python/ml/quantile_discretizer_example.py\n",
      "spark-2.4.4-bin-hadoop2.7/examples/src/main/python/ml/prefixspan_example.py\n",
      "spark-2.4.4-bin-hadoop2.7/examples/src/main/python/ml/polynomial_expansion_example.py\n",
      "spark-2.4.4-bin-hadoop2.7/examples/src/main/python/ml/pipeline_example.py\n",
      "spark-2.4.4-bin-hadoop2.7/examples/src/main/python/ml/pca_example.py\n",
      "spark-2.4.4-bin-hadoop2.7/examples/src/main/python/ml/one_vs_rest_example.py\n",
      "spark-2.4.4-bin-hadoop2.7/examples/src/main/python/ml/normalizer_example.py\n",
      "spark-2.4.4-bin-hadoop2.7/examples/src/main/python/ml/naive_bayes_example.py\n",
      "spark-2.4.4-bin-hadoop2.7/examples/src/main/python/ml/n_gram_example.py\n",
      "spark-2.4.4-bin-hadoop2.7/examples/src/main/python/ml/multilayer_perceptron_classification.py\n",
      "spark-2.4.4-bin-hadoop2.7/examples/src/main/python/ml/multiclass_logistic_regression_with_elastic_net.py\n",
      "spark-2.4.4-bin-hadoop2.7/examples/src/main/python/ml/min_max_scaler_example.py\n",
      "spark-2.4.4-bin-hadoop2.7/examples/src/main/python/ml/min_hash_lsh_example.py\n",
      "spark-2.4.4-bin-hadoop2.7/examples/src/main/python/ml/max_abs_scaler_example.py\n",
      "spark-2.4.4-bin-hadoop2.7/examples/src/main/python/ml/logistic_regression_with_elastic_net.py\n",
      "spark-2.4.4-bin-hadoop2.7/examples/src/main/python/ml/logistic_regression_summary_example.py\n",
      "spark-2.4.4-bin-hadoop2.7/examples/src/main/python/ml/linearsvc.py\n",
      "spark-2.4.4-bin-hadoop2.7/examples/src/main/python/ml/linear_regression_with_elastic_net.py\n",
      "spark-2.4.4-bin-hadoop2.7/examples/src/main/python/ml/lda_example.py\n",
      "spark-2.4.4-bin-hadoop2.7/examples/src/main/python/ml/kmeans_example.py\n",
      "spark-2.4.4-bin-hadoop2.7/examples/src/main/python/ml/isotonic_regression_example.py\n",
      "spark-2.4.4-bin-hadoop2.7/examples/src/main/python/ml/index_to_string_example.py\n",
      "spark-2.4.4-bin-hadoop2.7/examples/src/main/python/ml/imputer_example.py\n",
      "spark-2.4.4-bin-hadoop2.7/examples/src/main/python/ml/gradient_boosted_tree_regressor_example.py\n",
      "spark-2.4.4-bin-hadoop2.7/examples/src/main/python/ml/gradient_boosted_tree_classifier_example.py\n",
      "spark-2.4.4-bin-hadoop2.7/examples/src/main/python/ml/generalized_linear_regression_example.py\n",
      "spark-2.4.4-bin-hadoop2.7/examples/src/main/python/ml/gaussian_mixture_example.py\n",
      "spark-2.4.4-bin-hadoop2.7/examples/src/main/python/ml/fpgrowth_example.py\n",
      "spark-2.4.4-bin-hadoop2.7/examples/src/main/python/ml/feature_hasher_example.py\n",
      "spark-2.4.4-bin-hadoop2.7/examples/src/main/python/ml/estimator_transformer_param_example.py\n",
      "spark-2.4.4-bin-hadoop2.7/examples/src/main/python/ml/elementwise_product_example.py\n",
      "spark-2.4.4-bin-hadoop2.7/examples/src/main/python/ml/decision_tree_regression_example.py\n",
      "spark-2.4.4-bin-hadoop2.7/examples/src/main/python/ml/decision_tree_classification_example.py\n",
      "spark-2.4.4-bin-hadoop2.7/examples/src/main/python/ml/dct_example.py\n",
      "spark-2.4.4-bin-hadoop2.7/examples/src/main/python/ml/dataframe_example.py\n",
      "spark-2.4.4-bin-hadoop2.7/examples/src/main/python/ml/cross_validator.py\n",
      "spark-2.4.4-bin-hadoop2.7/examples/src/main/python/ml/count_vectorizer_example.py\n",
      "spark-2.4.4-bin-hadoop2.7/examples/src/main/python/ml/correlation_example.py\n",
      "spark-2.4.4-bin-hadoop2.7/examples/src/main/python/ml/chisq_selector_example.py\n",
      "spark-2.4.4-bin-hadoop2.7/examples/src/main/python/ml/chi_square_test_example.py\n",
      "spark-2.4.4-bin-hadoop2.7/examples/src/main/python/ml/bucketizer_example.py\n",
      "spark-2.4.4-bin-hadoop2.7/examples/src/main/python/ml/bucketed_random_projection_lsh_example.py\n",
      "spark-2.4.4-bin-hadoop2.7/examples/src/main/python/ml/binarizer_example.py\n",
      "spark-2.4.4-bin-hadoop2.7/examples/src/main/python/ml/als_example.py\n",
      "spark-2.4.4-bin-hadoop2.7/examples/src/main/python/ml/aft_survival_regression.py\n",
      "spark-2.4.4-bin-hadoop2.7/examples/src/main/python/ml/onehot_encoder_estimator_example.py\n",
      "spark-2.4.4-bin-hadoop2.7/examples/src/main/python/ml/bisecting_k_means_example.py\n",
      "spark-2.4.4-bin-hadoop2.7/examples/src/main/python/logistic_regression.py\n",
      "spark-2.4.4-bin-hadoop2.7/examples/src/main/python/kmeans.py\n",
      "spark-2.4.4-bin-hadoop2.7/examples/src/main/python/avro_inputformat.py\n",
      "spark-2.4.4-bin-hadoop2.7/examples/src/main/python/als.py\n",
      "spark-2.4.4-bin-hadoop2.7/examples/src/main/java/\n",
      "spark-2.4.4-bin-hadoop2.7/examples/src/main/java/org/\n",
      "spark-2.4.4-bin-hadoop2.7/examples/src/main/java/org/apache/\n",
      "spark-2.4.4-bin-hadoop2.7/examples/src/main/java/org/apache/spark/\n",
      "spark-2.4.4-bin-hadoop2.7/examples/src/main/java/org/apache/spark/examples/\n",
      "spark-2.4.4-bin-hadoop2.7/examples/src/main/java/org/apache/spark/examples/streaming/\n",
      "spark-2.4.4-bin-hadoop2.7/examples/src/main/java/org/apache/spark/examples/streaming/JavaStatefulNetworkWordCount.java\n",
      "spark-2.4.4-bin-hadoop2.7/examples/src/main/java/org/apache/spark/examples/streaming/JavaSqlNetworkWordCount.java\n",
      "spark-2.4.4-bin-hadoop2.7/examples/src/main/java/org/apache/spark/examples/streaming/JavaRecoverableNetworkWordCount.java\n",
      "spark-2.4.4-bin-hadoop2.7/examples/src/main/java/org/apache/spark/examples/streaming/JavaRecord.java\n",
      "spark-2.4.4-bin-hadoop2.7/examples/src/main/java/org/apache/spark/examples/streaming/JavaQueueStream.java\n",
      "spark-2.4.4-bin-hadoop2.7/examples/src/main/java/org/apache/spark/examples/streaming/JavaNetworkWordCount.java\n",
      "spark-2.4.4-bin-hadoop2.7/examples/src/main/java/org/apache/spark/examples/streaming/JavaDirectKafkaWordCount.java\n",
      "spark-2.4.4-bin-hadoop2.7/examples/src/main/java/org/apache/spark/examples/streaming/JavaCustomReceiver.java\n",
      "spark-2.4.4-bin-hadoop2.7/examples/src/main/java/org/apache/spark/examples/sql/\n",
      "spark-2.4.4-bin-hadoop2.7/examples/src/main/java/org/apache/spark/examples/sql/streaming/\n",
      "spark-2.4.4-bin-hadoop2.7/examples/src/main/java/org/apache/spark/examples/sql/streaming/JavaStructuredNetworkWordCountWindowed.java\n",
      "spark-2.4.4-bin-hadoop2.7/examples/src/main/java/org/apache/spark/examples/sql/streaming/JavaStructuredNetworkWordCount.java\n",
      "spark-2.4.4-bin-hadoop2.7/examples/src/main/java/org/apache/spark/examples/sql/streaming/JavaStructuredKafkaWordCount.java\n",
      "spark-2.4.4-bin-hadoop2.7/examples/src/main/java/org/apache/spark/examples/sql/streaming/JavaStructuredSessionization.java\n",
      "spark-2.4.4-bin-hadoop2.7/examples/src/main/java/org/apache/spark/examples/sql/hive/\n",
      "spark-2.4.4-bin-hadoop2.7/examples/src/main/java/org/apache/spark/examples/sql/hive/JavaSparkHiveExample.java\n",
      "spark-2.4.4-bin-hadoop2.7/examples/src/main/java/org/apache/spark/examples/sql/JavaUserDefinedUntypedAggregation.java\n",
      "spark-2.4.4-bin-hadoop2.7/examples/src/main/java/org/apache/spark/examples/sql/JavaUserDefinedTypedAggregation.java\n",
      "spark-2.4.4-bin-hadoop2.7/examples/src/main/java/org/apache/spark/examples/sql/JavaSparkSQLExample.java\n",
      "spark-2.4.4-bin-hadoop2.7/examples/src/main/java/org/apache/spark/examples/sql/JavaSQLDataSourceExample.java\n",
      "spark-2.4.4-bin-hadoop2.7/examples/src/main/java/org/apache/spark/examples/mllib/\n",
      "spark-2.4.4-bin-hadoop2.7/examples/src/main/java/org/apache/spark/examples/mllib/JavaSummaryStatisticsExample.java\n",
      "spark-2.4.4-bin-hadoop2.7/examples/src/main/java/org/apache/spark/examples/mllib/JavaStreamingTestExample.java\n",
      "spark-2.4.4-bin-hadoop2.7/examples/src/main/java/org/apache/spark/examples/mllib/JavaStratifiedSamplingExample.java\n",
      "spark-2.4.4-bin-hadoop2.7/examples/src/main/java/org/apache/spark/examples/mllib/JavaSimpleFPGrowth.java\n",
      "spark-2.4.4-bin-hadoop2.7/examples/src/main/java/org/apache/spark/examples/mllib/JavaSVMWithSGDExample.java\n",
      "spark-2.4.4-bin-hadoop2.7/examples/src/main/java/org/apache/spark/examples/mllib/JavaSVDExample.java\n",
      "spark-2.4.4-bin-hadoop2.7/examples/src/main/java/org/apache/spark/examples/mllib/JavaRegressionMetricsExample.java\n",
      "spark-2.4.4-bin-hadoop2.7/examples/src/main/java/org/apache/spark/examples/mllib/JavaRecommendationExample.java\n",
      "spark-2.4.4-bin-hadoop2.7/examples/src/main/java/org/apache/spark/examples/mllib/JavaRandomForestRegressionExample.java\n",
      "spark-2.4.4-bin-hadoop2.7/examples/src/main/java/org/apache/spark/examples/mllib/JavaPrefixSpanExample.java\n",
      "spark-2.4.4-bin-hadoop2.7/examples/src/main/java/org/apache/spark/examples/mllib/JavaPowerIterationClusteringExample.java\n",
      "spark-2.4.4-bin-hadoop2.7/examples/src/main/java/org/apache/spark/examples/mllib/JavaPCAExample.java\n",
      "spark-2.4.4-bin-hadoop2.7/examples/src/main/java/org/apache/spark/examples/mllib/JavaNaiveBayesExample.java\n",
      "spark-2.4.4-bin-hadoop2.7/examples/src/main/java/org/apache/spark/examples/mllib/JavaMulticlassClassificationMetricsExample.java\n",
      "spark-2.4.4-bin-hadoop2.7/examples/src/main/java/org/apache/spark/examples/mllib/JavaMultiLabelClassificationMetricsExample.java\n",
      "spark-2.4.4-bin-hadoop2.7/examples/src/main/java/org/apache/spark/examples/mllib/JavaLogisticRegressionWithLBFGSExample.java\n",
      "spark-2.4.4-bin-hadoop2.7/examples/src/main/java/org/apache/spark/examples/mllib/JavaLinearRegressionWithSGDExample.java\n",
      "spark-2.4.4-bin-hadoop2.7/examples/src/main/java/org/apache/spark/examples/mllib/JavaLatentDirichletAllocationExample.java\n",
      "spark-2.4.4-bin-hadoop2.7/examples/src/main/java/org/apache/spark/examples/mllib/JavaLBFGSExample.java\n",
      "spark-2.4.4-bin-hadoop2.7/examples/src/main/java/org/apache/spark/examples/mllib/JavaKernelDensityEstimationExample.java\n",
      "spark-2.4.4-bin-hadoop2.7/examples/src/main/java/org/apache/spark/examples/mllib/JavaKMeansExample.java\n",
      "spark-2.4.4-bin-hadoop2.7/examples/src/main/java/org/apache/spark/examples/mllib/JavaIsotonicRegressionExample.java\n",
      "spark-2.4.4-bin-hadoop2.7/examples/src/main/java/org/apache/spark/examples/mllib/JavaHypothesisTestingKolmogorovSmirnovTestExample.java\n",
      "spark-2.4.4-bin-hadoop2.7/examples/src/main/java/org/apache/spark/examples/mllib/JavaHypothesisTestingExample.java\n",
      "spark-2.4.4-bin-hadoop2.7/examples/src/main/java/org/apache/spark/examples/mllib/JavaGradientBoostingRegressionExample.java\n",
      "spark-2.4.4-bin-hadoop2.7/examples/src/main/java/org/apache/spark/examples/mllib/JavaGradientBoostingClassificationExample.java\n",
      "spark-2.4.4-bin-hadoop2.7/examples/src/main/java/org/apache/spark/examples/mllib/JavaGaussianMixtureExample.java\n",
      "spark-2.4.4-bin-hadoop2.7/examples/src/main/java/org/apache/spark/examples/mllib/JavaElementwiseProductExample.java\n",
      "spark-2.4.4-bin-hadoop2.7/examples/src/main/java/org/apache/spark/examples/mllib/JavaDecisionTreeRegressionExample.java\n",
      "spark-2.4.4-bin-hadoop2.7/examples/src/main/java/org/apache/spark/examples/mllib/JavaDecisionTreeClassificationExample.java\n",
      "spark-2.4.4-bin-hadoop2.7/examples/src/main/java/org/apache/spark/examples/mllib/JavaChiSqSelectorExample.java\n",
      "spark-2.4.4-bin-hadoop2.7/examples/src/main/java/org/apache/spark/examples/mllib/JavaBisectingKMeansExample.java\n",
      "spark-2.4.4-bin-hadoop2.7/examples/src/main/java/org/apache/spark/examples/mllib/JavaBinaryClassificationMetricsExample.java\n",
      "spark-2.4.4-bin-hadoop2.7/examples/src/main/java/org/apache/spark/examples/mllib/JavaAssociationRulesExample.java\n",
      "spark-2.4.4-bin-hadoop2.7/examples/src/main/java/org/apache/spark/examples/mllib/JavaALS.java\n",
      "spark-2.4.4-bin-hadoop2.7/examples/src/main/java/org/apache/spark/examples/mllib/JavaRankingMetricsExample.java\n",
      "spark-2.4.4-bin-hadoop2.7/examples/src/main/java/org/apache/spark/examples/mllib/JavaRandomForestClassificationExample.java\n",
      "spark-2.4.4-bin-hadoop2.7/examples/src/main/java/org/apache/spark/examples/mllib/JavaCorrelationsExample.java\n",
      "spark-2.4.4-bin-hadoop2.7/examples/src/main/java/org/apache/spark/examples/ml/\n",
      "spark-2.4.4-bin-hadoop2.7/examples/src/main/java/org/apache/spark/examples/ml/JavaWord2VecExample.java\n",
      "spark-2.4.4-bin-hadoop2.7/examples/src/main/java/org/apache/spark/examples/ml/JavaVectorSlicerExample.java\n",
      "spark-2.4.4-bin-hadoop2.7/examples/src/main/java/org/apache/spark/examples/ml/JavaVectorSizeHintExample.java\n",
      "spark-2.4.4-bin-hadoop2.7/examples/src/main/java/org/apache/spark/examples/ml/JavaVectorIndexerExample.java\n",
      "spark-2.4.4-bin-hadoop2.7/examples/src/main/java/org/apache/spark/examples/ml/JavaVectorAssemblerExample.java\n",
      "spark-2.4.4-bin-hadoop2.7/examples/src/main/java/org/apache/spark/examples/ml/JavaTokenizerExample.java\n",
      "spark-2.4.4-bin-hadoop2.7/examples/src/main/java/org/apache/spark/examples/ml/JavaTfIdfExample.java\n",
      "spark-2.4.4-bin-hadoop2.7/examples/src/main/java/org/apache/spark/examples/ml/JavaSummarizerExample.java\n",
      "spark-2.4.4-bin-hadoop2.7/examples/src/main/java/org/apache/spark/examples/ml/JavaStringIndexerExample.java\n",
      "spark-2.4.4-bin-hadoop2.7/examples/src/main/java/org/apache/spark/examples/ml/JavaStopWordsRemoverExample.java\n",
      "spark-2.4.4-bin-hadoop2.7/examples/src/main/java/org/apache/spark/examples/ml/JavaStandardScalerExample.java\n",
      "spark-2.4.4-bin-hadoop2.7/examples/src/main/java/org/apache/spark/examples/ml/JavaSQLTransformerExample.java\n",
      "spark-2.4.4-bin-hadoop2.7/examples/src/main/java/org/apache/spark/examples/ml/JavaRandomForestRegressorExample.java\n",
      "spark-2.4.4-bin-hadoop2.7/examples/src/main/java/org/apache/spark/examples/ml/JavaRFormulaExample.java\n",
      "spark-2.4.4-bin-hadoop2.7/examples/src/main/java/org/apache/spark/examples/ml/JavaQuantileDiscretizerExample.java\n",
      "spark-2.4.4-bin-hadoop2.7/examples/src/main/java/org/apache/spark/examples/ml/JavaPowerIterationClusteringExample.java\n",
      "spark-2.4.4-bin-hadoop2.7/examples/src/main/java/org/apache/spark/examples/ml/JavaPolynomialExpansionExample.java\n",
      "spark-2.4.4-bin-hadoop2.7/examples/src/main/java/org/apache/spark/examples/ml/JavaPipelineExample.java\n",
      "spark-2.4.4-bin-hadoop2.7/examples/src/main/java/org/apache/spark/examples/ml/JavaPCAExample.java\n",
      "spark-2.4.4-bin-hadoop2.7/examples/src/main/java/org/apache/spark/examples/ml/JavaOneVsRestExample.java\n",
      "spark-2.4.4-bin-hadoop2.7/examples/src/main/java/org/apache/spark/examples/ml/JavaNormalizerExample.java\n",
      "spark-2.4.4-bin-hadoop2.7/examples/src/main/java/org/apache/spark/examples/ml/JavaNaiveBayesExample.java\n",
      "spark-2.4.4-bin-hadoop2.7/examples/src/main/java/org/apache/spark/examples/ml/JavaNGramExample.java\n",
      "spark-2.4.4-bin-hadoop2.7/examples/src/main/java/org/apache/spark/examples/ml/JavaMultilayerPerceptronClassifierExample.java\n",
      "spark-2.4.4-bin-hadoop2.7/examples/src/main/java/org/apache/spark/examples/ml/JavaMulticlassLogisticRegressionWithElasticNetExample.java\n",
      "spark-2.4.4-bin-hadoop2.7/examples/src/main/java/org/apache/spark/examples/ml/JavaModelSelectionViaTrainValidationSplitExample.java\n",
      "spark-2.4.4-bin-hadoop2.7/examples/src/main/java/org/apache/spark/examples/ml/JavaModelSelectionViaCrossValidationExample.java\n",
      "spark-2.4.4-bin-hadoop2.7/examples/src/main/java/org/apache/spark/examples/ml/JavaMinMaxScalerExample.java\n",
      "spark-2.4.4-bin-hadoop2.7/examples/src/main/java/org/apache/spark/examples/ml/JavaMinHashLSHExample.java\n",
      "spark-2.4.4-bin-hadoop2.7/examples/src/main/java/org/apache/spark/examples/ml/JavaMaxAbsScalerExample.java\n",
      "spark-2.4.4-bin-hadoop2.7/examples/src/main/java/org/apache/spark/examples/ml/JavaLogisticRegressionWithElasticNetExample.java\n",
      "spark-2.4.4-bin-hadoop2.7/examples/src/main/java/org/apache/spark/examples/ml/JavaLogisticRegressionSummaryExample.java\n",
      "spark-2.4.4-bin-hadoop2.7/examples/src/main/java/org/apache/spark/examples/ml/JavaLinearSVCExample.java\n",
      "spark-2.4.4-bin-hadoop2.7/examples/src/main/java/org/apache/spark/examples/ml/JavaLinearRegressionWithElasticNetExample.java\n",
      "spark-2.4.4-bin-hadoop2.7/examples/src/main/java/org/apache/spark/examples/ml/JavaLabeledDocument.java\n",
      "spark-2.4.4-bin-hadoop2.7/examples/src/main/java/org/apache/spark/examples/ml/JavaLDAExample.java\n",
      "spark-2.4.4-bin-hadoop2.7/examples/src/main/java/org/apache/spark/examples/ml/JavaKMeansExample.java\n",
      "spark-2.4.4-bin-hadoop2.7/examples/src/main/java/org/apache/spark/examples/ml/JavaIsotonicRegressionExample.java\n",
      "spark-2.4.4-bin-hadoop2.7/examples/src/main/java/org/apache/spark/examples/ml/JavaInteractionExample.java\n",
      "spark-2.4.4-bin-hadoop2.7/examples/src/main/java/org/apache/spark/examples/ml/JavaIndexToStringExample.java\n",
      "spark-2.4.4-bin-hadoop2.7/examples/src/main/java/org/apache/spark/examples/ml/JavaImputerExample.java\n",
      "spark-2.4.4-bin-hadoop2.7/examples/src/main/java/org/apache/spark/examples/ml/JavaGradientBoostedTreeRegressorExample.java\n",
      "spark-2.4.4-bin-hadoop2.7/examples/src/main/java/org/apache/spark/examples/ml/JavaGeneralizedLinearRegressionExample.java\n",
      "spark-2.4.4-bin-hadoop2.7/examples/src/main/java/org/apache/spark/examples/ml/JavaGaussianMixtureExample.java\n",
      "spark-2.4.4-bin-hadoop2.7/examples/src/main/java/org/apache/spark/examples/ml/JavaFeatureHasherExample.java\n",
      "spark-2.4.4-bin-hadoop2.7/examples/src/main/java/org/apache/spark/examples/ml/JavaFPGrowthExample.java\n",
      "spark-2.4.4-bin-hadoop2.7/examples/src/main/java/org/apache/spark/examples/ml/JavaEstimatorTransformerParamExample.java\n",
      "spark-2.4.4-bin-hadoop2.7/examples/src/main/java/org/apache/spark/examples/ml/JavaElementwiseProductExample.java\n",
      "spark-2.4.4-bin-hadoop2.7/examples/src/main/java/org/apache/spark/examples/ml/JavaDocument.java\n",
      "spark-2.4.4-bin-hadoop2.7/examples/src/main/java/org/apache/spark/examples/ml/JavaDecisionTreeRegressionExample.java\n",
      "spark-2.4.4-bin-hadoop2.7/examples/src/main/java/org/apache/spark/examples/ml/JavaDCTExample.java\n",
      "spark-2.4.4-bin-hadoop2.7/examples/src/main/java/org/apache/spark/examples/ml/JavaCountVectorizerExample.java\n",
      "spark-2.4.4-bin-hadoop2.7/examples/src/main/java/org/apache/spark/examples/ml/JavaCorrelationExample.java\n",
      "spark-2.4.4-bin-hadoop2.7/examples/src/main/java/org/apache/spark/examples/ml/JavaChiSquareTestExample.java\n",
      "spark-2.4.4-bin-hadoop2.7/examples/src/main/java/org/apache/spark/examples/ml/JavaChiSqSelectorExample.java\n",
      "spark-2.4.4-bin-hadoop2.7/examples/src/main/java/org/apache/spark/examples/ml/JavaBucketizerExample.java\n",
      "spark-2.4.4-bin-hadoop2.7/examples/src/main/java/org/apache/spark/examples/ml/JavaBucketedRandomProjectionLSHExample.java\n",
      "spark-2.4.4-bin-hadoop2.7/examples/src/main/java/org/apache/spark/examples/ml/JavaBinarizerExample.java\n",
      "spark-2.4.4-bin-hadoop2.7/examples/src/main/java/org/apache/spark/examples/ml/JavaAFTSurvivalRegressionExample.java\n",
      "spark-2.4.4-bin-hadoop2.7/examples/src/main/java/org/apache/spark/examples/ml/JavaRandomForestClassifierExample.java\n",
      "spark-2.4.4-bin-hadoop2.7/examples/src/main/java/org/apache/spark/examples/ml/JavaPrefixSpanExample.java\n",
      "spark-2.4.4-bin-hadoop2.7/examples/src/main/java/org/apache/spark/examples/ml/JavaOneHotEncoderEstimatorExample.java\n",
      "spark-2.4.4-bin-hadoop2.7/examples/src/main/java/org/apache/spark/examples/ml/JavaGradientBoostedTreeClassifierExample.java\n",
      "spark-2.4.4-bin-hadoop2.7/examples/src/main/java/org/apache/spark/examples/ml/JavaDecisionTreeClassificationExample.java\n",
      "spark-2.4.4-bin-hadoop2.7/examples/src/main/java/org/apache/spark/examples/ml/JavaBisectingKMeansExample.java\n",
      "spark-2.4.4-bin-hadoop2.7/examples/src/main/java/org/apache/spark/examples/ml/JavaALSExample.java\n",
      "spark-2.4.4-bin-hadoop2.7/examples/src/main/java/org/apache/spark/examples/JavaWordCount.java\n",
      "spark-2.4.4-bin-hadoop2.7/examples/src/main/java/org/apache/spark/examples/JavaStatusTrackerDemo.java\n",
      "spark-2.4.4-bin-hadoop2.7/examples/src/main/java/org/apache/spark/examples/JavaSparkPi.java\n",
      "spark-2.4.4-bin-hadoop2.7/examples/src/main/java/org/apache/spark/examples/JavaPageRank.java\n",
      "spark-2.4.4-bin-hadoop2.7/examples/src/main/java/org/apache/spark/examples/JavaLogQuery.java\n",
      "spark-2.4.4-bin-hadoop2.7/examples/src/main/java/org/apache/spark/examples/JavaHdfsLR.java\n",
      "spark-2.4.4-bin-hadoop2.7/examples/src/main/java/org/apache/spark/examples/JavaTC.java\n",
      "spark-2.4.4-bin-hadoop2.7/examples/jars/\n",
      "spark-2.4.4-bin-hadoop2.7/examples/jars/spark-examples_2.11-2.4.4.jar\n",
      "spark-2.4.4-bin-hadoop2.7/examples/jars/scopt_2.11-3.7.0.jar\n",
      "spark-2.4.4-bin-hadoop2.7/kubernetes/\n",
      "spark-2.4.4-bin-hadoop2.7/kubernetes/tests/\n",
      "spark-2.4.4-bin-hadoop2.7/kubernetes/tests/pyfiles.py\n",
      "spark-2.4.4-bin-hadoop2.7/kubernetes/tests/worker_memory_check.py\n",
      "spark-2.4.4-bin-hadoop2.7/kubernetes/tests/py_container_checks.py\n",
      "spark-2.4.4-bin-hadoop2.7/kubernetes/dockerfiles/\n",
      "spark-2.4.4-bin-hadoop2.7/kubernetes/dockerfiles/spark/\n",
      "spark-2.4.4-bin-hadoop2.7/kubernetes/dockerfiles/spark/entrypoint.sh\n",
      "spark-2.4.4-bin-hadoop2.7/kubernetes/dockerfiles/spark/Dockerfile\n",
      "spark-2.4.4-bin-hadoop2.7/kubernetes/dockerfiles/spark/bindings/\n",
      "spark-2.4.4-bin-hadoop2.7/kubernetes/dockerfiles/spark/bindings/python/\n",
      "spark-2.4.4-bin-hadoop2.7/kubernetes/dockerfiles/spark/bindings/python/Dockerfile\n",
      "spark-2.4.4-bin-hadoop2.7/kubernetes/dockerfiles/spark/bindings/R/\n",
      "spark-2.4.4-bin-hadoop2.7/kubernetes/dockerfiles/spark/bindings/R/Dockerfile\n",
      "spark-2.4.4-bin-hadoop2.7/yarn/\n",
      "spark-2.4.4-bin-hadoop2.7/yarn/spark-2.4.4-yarn-shuffle.jar\n",
      "spark-2.4.4-bin-hadoop2.7/jars/\n",
      "spark-2.4.4-bin-hadoop2.7/jars/jackson-mapper-asl-1.9.13.jar\n",
      "spark-2.4.4-bin-hadoop2.7/jars/jackson-jaxrs-1.9.13.jar\n",
      "spark-2.4.4-bin-hadoop2.7/jars/jackson-dataformat-yaml-2.6.7.jar\n",
      "spark-2.4.4-bin-hadoop2.7/jars/jackson-databind-2.6.7.1.jar\n",
      "spark-2.4.4-bin-hadoop2.7/jars/jackson-core-asl-1.9.13.jar\n",
      "spark-2.4.4-bin-hadoop2.7/jars/jackson-core-2.6.7.jar\n",
      "spark-2.4.4-bin-hadoop2.7/jars/jackson-annotations-2.6.7.jar\n",
      "spark-2.4.4-bin-hadoop2.7/jars/ivy-2.4.0.jar\n",
      "spark-2.4.4-bin-hadoop2.7/jars/httpcore-4.4.10.jar\n",
      "spark-2.4.4-bin-hadoop2.7/jars/httpclient-4.5.6.jar\n",
      "spark-2.4.4-bin-hadoop2.7/jars/htrace-core-3.1.0-incubating.jar\n",
      "spark-2.4.4-bin-hadoop2.7/jars/hppc-0.7.2.jar\n",
      "spark-2.4.4-bin-hadoop2.7/jars/hk2-utils-2.4.0-b34.jar\n",
      "spark-2.4.4-bin-hadoop2.7/jars/hk2-locator-2.4.0-b34.jar\n",
      "spark-2.4.4-bin-hadoop2.7/jars/hk2-api-2.4.0-b34.jar\n",
      "spark-2.4.4-bin-hadoop2.7/jars/hive-metastore-1.2.1.spark2.jar\n",
      "spark-2.4.4-bin-hadoop2.7/jars/hive-jdbc-1.2.1.spark2.jar\n",
      "spark-2.4.4-bin-hadoop2.7/jars/hive-exec-1.2.1.spark2.jar\n",
      "spark-2.4.4-bin-hadoop2.7/jars/hive-cli-1.2.1.spark2.jar\n",
      "spark-2.4.4-bin-hadoop2.7/jars/hive-beeline-1.2.1.spark2.jar\n",
      "spark-2.4.4-bin-hadoop2.7/jars/hadoop-yarn-server-web-proxy-2.7.3.jar\n",
      "spark-2.4.4-bin-hadoop2.7/jars/hadoop-yarn-server-common-2.7.3.jar\n",
      "spark-2.4.4-bin-hadoop2.7/jars/hadoop-yarn-common-2.7.3.jar\n",
      "spark-2.4.4-bin-hadoop2.7/jars/hadoop-yarn-client-2.7.3.jar\n",
      "spark-2.4.4-bin-hadoop2.7/jars/hadoop-yarn-api-2.7.3.jar\n",
      "spark-2.4.4-bin-hadoop2.7/jars/hadoop-mapreduce-client-shuffle-2.7.3.jar\n",
      "spark-2.4.4-bin-hadoop2.7/jars/hadoop-mapreduce-client-jobclient-2.7.3.jar\n",
      "spark-2.4.4-bin-hadoop2.7/jars/hadoop-mapreduce-client-core-2.7.3.jar\n",
      "spark-2.4.4-bin-hadoop2.7/jars/hadoop-mapreduce-client-common-2.7.3.jar\n",
      "spark-2.4.4-bin-hadoop2.7/jars/hadoop-mapreduce-client-app-2.7.3.jar\n",
      "spark-2.4.4-bin-hadoop2.7/jars/hadoop-hdfs-2.7.3.jar\n",
      "spark-2.4.4-bin-hadoop2.7/jars/hadoop-common-2.7.3.jar\n",
      "spark-2.4.4-bin-hadoop2.7/jars/hadoop-client-2.7.3.jar\n",
      "spark-2.4.4-bin-hadoop2.7/jars/hadoop-auth-2.7.3.jar\n",
      "spark-2.4.4-bin-hadoop2.7/jars/hadoop-annotations-2.7.3.jar\n",
      "spark-2.4.4-bin-hadoop2.7/jars/guice-servlet-3.0.jar\n",
      "spark-2.4.4-bin-hadoop2.7/jars/guice-3.0.jar\n",
      "spark-2.4.4-bin-hadoop2.7/jars/guava-14.0.1.jar\n",
      "spark-2.4.4-bin-hadoop2.7/jars/gson-2.2.4.jar\n",
      "spark-2.4.4-bin-hadoop2.7/jars/generex-1.0.1.jar\n",
      "spark-2.4.4-bin-hadoop2.7/jars/flatbuffers-1.2.0-3f79e055.jar\n",
      "spark-2.4.4-bin-hadoop2.7/jars/eigenbase-properties-1.1.5.jar\n",
      "spark-2.4.4-bin-hadoop2.7/jars/derby-10.12.1.1.jar\n",
      "spark-2.4.4-bin-hadoop2.7/jars/datanucleus-rdbms-3.2.9.jar\n",
      "spark-2.4.4-bin-hadoop2.7/jars/datanucleus-core-3.2.10.jar\n",
      "spark-2.4.4-bin-hadoop2.7/jars/datanucleus-api-jdo-3.2.6.jar\n",
      "spark-2.4.4-bin-hadoop2.7/jars/curator-recipes-2.7.1.jar\n",
      "spark-2.4.4-bin-hadoop2.7/jars/curator-framework-2.7.1.jar\n",
      "spark-2.4.4-bin-hadoop2.7/jars/curator-client-2.7.1.jar\n",
      "spark-2.4.4-bin-hadoop2.7/jars/core-1.1.2.jar\n",
      "spark-2.4.4-bin-hadoop2.7/jars/compress-lzf-1.0.3.jar\n",
      "spark-2.4.4-bin-hadoop2.7/jars/commons-pool-1.5.4.jar\n",
      "spark-2.4.4-bin-hadoop2.7/jars/commons-net-3.1.jar\n",
      "spark-2.4.4-bin-hadoop2.7/jars/commons-math3-3.4.1.jar\n",
      "spark-2.4.4-bin-hadoop2.7/jars/commons-logging-1.1.3.jar\n",
      "spark-2.4.4-bin-hadoop2.7/jars/commons-lang3-3.5.jar\n",
      "spark-2.4.4-bin-hadoop2.7/jars/commons-lang-2.6.jar\n",
      "spark-2.4.4-bin-hadoop2.7/jars/commons-io-2.4.jar\n",
      "spark-2.4.4-bin-hadoop2.7/jars/commons-httpclient-3.1.jar\n",
      "spark-2.4.4-bin-hadoop2.7/jars/commons-digester-1.8.jar\n",
      "spark-2.4.4-bin-hadoop2.7/jars/commons-dbcp-1.4.jar\n",
      "spark-2.4.4-bin-hadoop2.7/jars/commons-crypto-1.0.0.jar\n",
      "spark-2.4.4-bin-hadoop2.7/jars/commons-configuration-1.6.jar\n",
      "spark-2.4.4-bin-hadoop2.7/jars/commons-compress-1.8.1.jar\n",
      "spark-2.4.4-bin-hadoop2.7/jars/commons-compiler-3.0.9.jar\n",
      "spark-2.4.4-bin-hadoop2.7/jars/commons-collections-3.2.2.jar\n",
      "spark-2.4.4-bin-hadoop2.7/jars/commons-codec-1.10.jar\n",
      "spark-2.4.4-bin-hadoop2.7/jars/commons-cli-1.2.jar\n",
      "spark-2.4.4-bin-hadoop2.7/jars/commons-beanutils-1.9.3.jar\n",
      "spark-2.4.4-bin-hadoop2.7/jars/chill_2.11-0.9.3.jar\n",
      "spark-2.4.4-bin-hadoop2.7/jars/chill-java-0.9.3.jar\n",
      "spark-2.4.4-bin-hadoop2.7/jars/calcite-linq4j-1.2.0-incubating.jar\n",
      "spark-2.4.4-bin-hadoop2.7/jars/calcite-core-1.2.0-incubating.jar\n",
      "spark-2.4.4-bin-hadoop2.7/jars/calcite-avatica-1.2.0-incubating.jar\n",
      "spark-2.4.4-bin-hadoop2.7/jars/breeze_2.11-0.13.2.jar\n",
      "spark-2.4.4-bin-hadoop2.7/jars/breeze-macros_2.11-0.13.2.jar\n",
      "spark-2.4.4-bin-hadoop2.7/jars/bonecp-0.8.0.RELEASE.jar\n",
      "spark-2.4.4-bin-hadoop2.7/jars/avro-mapred-1.8.2-hadoop2.jar\n",
      "spark-2.4.4-bin-hadoop2.7/jars/avro-ipc-1.8.2.jar\n",
      "spark-2.4.4-bin-hadoop2.7/jars/avro-1.8.2.jar\n",
      "spark-2.4.4-bin-hadoop2.7/jars/automaton-1.11-8.jar\n",
      "spark-2.4.4-bin-hadoop2.7/jars/arrow-vector-0.10.0.jar\n",
      "spark-2.4.4-bin-hadoop2.7/jars/arrow-memory-0.10.0.jar\n",
      "spark-2.4.4-bin-hadoop2.7/jars/arrow-format-0.10.0.jar\n",
      "spark-2.4.4-bin-hadoop2.7/jars/arpack_combined_all-0.1.jar\n",
      "spark-2.4.4-bin-hadoop2.7/jars/api-util-1.0.0-M20.jar\n",
      "spark-2.4.4-bin-hadoop2.7/jars/api-asn1-api-1.0.0-M20.jar\n",
      "spark-2.4.4-bin-hadoop2.7/jars/apacheds-kerberos-codec-2.0.0-M15.jar\n",
      "spark-2.4.4-bin-hadoop2.7/jars/apacheds-i18n-2.0.0-M15.jar\n",
      "spark-2.4.4-bin-hadoop2.7/jars/apache-log4j-extras-1.2.17.jar\n",
      "spark-2.4.4-bin-hadoop2.7/jars/aopalliance-repackaged-2.4.0-b34.jar\n",
      "spark-2.4.4-bin-hadoop2.7/jars/aopalliance-1.0.jar\n",
      "spark-2.4.4-bin-hadoop2.7/jars/antlr4-runtime-4.7.jar\n",
      "spark-2.4.4-bin-hadoop2.7/jars/antlr-runtime-3.4.jar\n",
      "spark-2.4.4-bin-hadoop2.7/jars/antlr-2.7.7.jar\n",
      "spark-2.4.4-bin-hadoop2.7/jars/aircompressor-0.10.jar\n",
      "spark-2.4.4-bin-hadoop2.7/jars/activation-1.1.1.jar\n",
      "spark-2.4.4-bin-hadoop2.7/jars/ST4-4.0.4.jar\n",
      "spark-2.4.4-bin-hadoop2.7/jars/RoaringBitmap-0.7.45.jar\n",
      "spark-2.4.4-bin-hadoop2.7/jars/JavaEWAH-0.3.2.jar\n",
      "spark-2.4.4-bin-hadoop2.7/jars/zstd-jni-1.3.2-2.jar\n",
      "spark-2.4.4-bin-hadoop2.7/jars/zookeeper-3.4.6.jar\n",
      "spark-2.4.4-bin-hadoop2.7/jars/zjsonpatch-0.3.0.jar\n",
      "spark-2.4.4-bin-hadoop2.7/jars/xz-1.5.jar\n",
      "spark-2.4.4-bin-hadoop2.7/jars/xmlenc-0.52.jar\n",
      "spark-2.4.4-bin-hadoop2.7/jars/xercesImpl-2.9.1.jar\n",
      "spark-2.4.4-bin-hadoop2.7/jars/xbean-asm6-shaded-4.8.jar\n",
      "spark-2.4.4-bin-hadoop2.7/jars/validation-api-1.1.0.Final.jar\n",
      "spark-2.4.4-bin-hadoop2.7/jars/univocity-parsers-2.7.3.jar\n",
      "spark-2.4.4-bin-hadoop2.7/jars/super-csv-2.2.0.jar\n",
      "spark-2.4.4-bin-hadoop2.7/jars/stringtemplate-3.2.1.jar\n",
      "spark-2.4.4-bin-hadoop2.7/jars/stream-2.7.0.jar\n",
      "spark-2.4.4-bin-hadoop2.7/jars/stax-api-1.0.1.jar\n",
      "spark-2.4.4-bin-hadoop2.7/jars/stax-api-1.0-2.jar\n",
      "spark-2.4.4-bin-hadoop2.7/jars/spire_2.11-0.13.0.jar\n",
      "spark-2.4.4-bin-hadoop2.7/jars/spire-macros_2.11-0.13.0.jar\n",
      "spark-2.4.4-bin-hadoop2.7/jars/spark-yarn_2.11-2.4.4.jar\n",
      "spark-2.4.4-bin-hadoop2.7/jars/spark-unsafe_2.11-2.4.4.jar\n",
      "spark-2.4.4-bin-hadoop2.7/jars/spark-tags_2.11-2.4.4.jar\n",
      "spark-2.4.4-bin-hadoop2.7/jars/spark-tags_2.11-2.4.4-tests.jar\n",
      "spark-2.4.4-bin-hadoop2.7/jars/spark-streaming_2.11-2.4.4.jar\n",
      "spark-2.4.4-bin-hadoop2.7/jars/spark-sql_2.11-2.4.4.jar\n",
      "spark-2.4.4-bin-hadoop2.7/jars/spark-sketch_2.11-2.4.4.jar\n",
      "spark-2.4.4-bin-hadoop2.7/jars/spark-repl_2.11-2.4.4.jar\n",
      "spark-2.4.4-bin-hadoop2.7/jars/spark-network-shuffle_2.11-2.4.4.jar\n",
      "spark-2.4.4-bin-hadoop2.7/jars/spark-network-common_2.11-2.4.4.jar\n",
      "spark-2.4.4-bin-hadoop2.7/jars/spark-mllib_2.11-2.4.4.jar\n",
      "spark-2.4.4-bin-hadoop2.7/jars/spark-mllib-local_2.11-2.4.4.jar\n",
      "spark-2.4.4-bin-hadoop2.7/jars/spark-mesos_2.11-2.4.4.jar\n",
      "spark-2.4.4-bin-hadoop2.7/jars/spark-launcher_2.11-2.4.4.jar\n",
      "spark-2.4.4-bin-hadoop2.7/jars/spark-kvstore_2.11-2.4.4.jar\n",
      "spark-2.4.4-bin-hadoop2.7/jars/spark-kubernetes_2.11-2.4.4.jar\n",
      "spark-2.4.4-bin-hadoop2.7/jars/spark-hive_2.11-2.4.4.jar\n",
      "spark-2.4.4-bin-hadoop2.7/jars/spark-hive-thriftserver_2.11-2.4.4.jar\n",
      "spark-2.4.4-bin-hadoop2.7/jars/spark-graphx_2.11-2.4.4.jar\n",
      "spark-2.4.4-bin-hadoop2.7/jars/spark-core_2.11-2.4.4.jar\n",
      "spark-2.4.4-bin-hadoop2.7/jars/spark-catalyst_2.11-2.4.4.jar\n",
      "spark-2.4.4-bin-hadoop2.7/jars/snappy-java-1.1.7.3.jar\n",
      "spark-2.4.4-bin-hadoop2.7/jars/snappy-0.2.jar\n",
      "spark-2.4.4-bin-hadoop2.7/jars/snakeyaml-1.15.jar\n",
      "spark-2.4.4-bin-hadoop2.7/jars/slf4j-log4j12-1.7.16.jar\n",
      "spark-2.4.4-bin-hadoop2.7/jars/slf4j-api-1.7.16.jar\n",
      "spark-2.4.4-bin-hadoop2.7/jars/shims-0.7.45.jar\n",
      "spark-2.4.4-bin-hadoop2.7/jars/shapeless_2.11-2.3.2.jar\n",
      "spark-2.4.4-bin-hadoop2.7/jars/scala-xml_2.11-1.0.5.jar\n",
      "spark-2.4.4-bin-hadoop2.7/jars/scala-reflect-2.11.12.jar\n",
      "spark-2.4.4-bin-hadoop2.7/jars/scala-parser-combinators_2.11-1.1.0.jar\n",
      "spark-2.4.4-bin-hadoop2.7/jars/scala-library-2.11.12.jar\n",
      "spark-2.4.4-bin-hadoop2.7/jars/scala-compiler-2.11.12.jar\n",
      "spark-2.4.4-bin-hadoop2.7/jars/pyrolite-4.13.jar\n",
      "spark-2.4.4-bin-hadoop2.7/jars/py4j-0.10.7.jar\n",
      "spark-2.4.4-bin-hadoop2.7/jars/protobuf-java-2.5.0.jar\n",
      "spark-2.4.4-bin-hadoop2.7/jars/parquet-jackson-1.10.1.jar\n",
      "spark-2.4.4-bin-hadoop2.7/jars/parquet-hadoop-bundle-1.6.0.jar\n",
      "spark-2.4.4-bin-hadoop2.7/jars/parquet-hadoop-1.10.1.jar\n",
      "spark-2.4.4-bin-hadoop2.7/jars/parquet-format-2.4.0.jar\n",
      "spark-2.4.4-bin-hadoop2.7/jars/parquet-encoding-1.10.1.jar\n",
      "spark-2.4.4-bin-hadoop2.7/jars/parquet-common-1.10.1.jar\n",
      "spark-2.4.4-bin-hadoop2.7/jars/parquet-column-1.10.1.jar\n",
      "spark-2.4.4-bin-hadoop2.7/jars/paranamer-2.8.jar\n",
      "spark-2.4.4-bin-hadoop2.7/jars/osgi-resource-locator-1.0.1.jar\n",
      "spark-2.4.4-bin-hadoop2.7/jars/oro-2.0.8.jar\n",
      "spark-2.4.4-bin-hadoop2.7/jars/orc-shims-1.5.5.jar\n",
      "spark-2.4.4-bin-hadoop2.7/jars/orc-mapreduce-1.5.5-nohive.jar\n",
      "spark-2.4.4-bin-hadoop2.7/jars/orc-core-1.5.5-nohive.jar\n",
      "spark-2.4.4-bin-hadoop2.7/jars/opencsv-2.3.jar\n",
      "spark-2.4.4-bin-hadoop2.7/jars/okio-1.13.0.jar\n",
      "spark-2.4.4-bin-hadoop2.7/jars/okhttp-3.8.1.jar\n",
      "spark-2.4.4-bin-hadoop2.7/jars/objenesis-2.5.1.jar\n",
      "spark-2.4.4-bin-hadoop2.7/jars/netty-all-4.1.17.Final.jar\n",
      "spark-2.4.4-bin-hadoop2.7/jars/netty-3.9.9.Final.jar\n",
      "spark-2.4.4-bin-hadoop2.7/jars/minlog-1.3.0.jar\n",
      "spark-2.4.4-bin-hadoop2.7/jars/metrics-jvm-3.1.5.jar\n",
      "spark-2.4.4-bin-hadoop2.7/jars/metrics-json-3.1.5.jar\n",
      "spark-2.4.4-bin-hadoop2.7/jars/metrics-graphite-3.1.5.jar\n",
      "spark-2.4.4-bin-hadoop2.7/jars/metrics-core-3.1.5.jar\n",
      "spark-2.4.4-bin-hadoop2.7/jars/mesos-1.4.0-shaded-protobuf.jar\n",
      "spark-2.4.4-bin-hadoop2.7/jars/macro-compat_2.11-1.1.1.jar\n",
      "spark-2.4.4-bin-hadoop2.7/jars/machinist_2.11-0.6.1.jar\n",
      "spark-2.4.4-bin-hadoop2.7/jars/lz4-java-1.4.0.jar\n",
      "spark-2.4.4-bin-hadoop2.7/jars/logging-interceptor-3.12.0.jar\n",
      "spark-2.4.4-bin-hadoop2.7/jars/log4j-1.2.17.jar\n",
      "spark-2.4.4-bin-hadoop2.7/jars/libthrift-0.9.3.jar\n",
      "spark-2.4.4-bin-hadoop2.7/jars/libfb303-0.9.3.jar\n",
      "spark-2.4.4-bin-hadoop2.7/jars/leveldbjni-all-1.8.jar\n",
      "spark-2.4.4-bin-hadoop2.7/jars/kubernetes-model-common-4.1.2.jar\n",
      "spark-2.4.4-bin-hadoop2.7/jars/kubernetes-model-4.1.2.jar\n",
      "spark-2.4.4-bin-hadoop2.7/jars/kubernetes-client-4.1.2.jar\n",
      "spark-2.4.4-bin-hadoop2.7/jars/kryo-shaded-4.0.2.jar\n",
      "spark-2.4.4-bin-hadoop2.7/jars/jul-to-slf4j-1.7.16.jar\n",
      "spark-2.4.4-bin-hadoop2.7/jars/jtransforms-2.4.0.jar\n",
      "spark-2.4.4-bin-hadoop2.7/jars/jta-1.1.jar\n",
      "spark-2.4.4-bin-hadoop2.7/jars/jsr305-1.3.9.jar\n",
      "spark-2.4.4-bin-hadoop2.7/jars/jsp-api-2.1.jar\n",
      "spark-2.4.4-bin-hadoop2.7/jars/json4s-scalap_2.11-3.5.3.jar\n",
      "spark-2.4.4-bin-hadoop2.7/jars/json4s-jackson_2.11-3.5.3.jar\n",
      "spark-2.4.4-bin-hadoop2.7/jars/json4s-core_2.11-3.5.3.jar\n",
      "spark-2.4.4-bin-hadoop2.7/jars/json4s-ast_2.11-3.5.3.jar\n",
      "spark-2.4.4-bin-hadoop2.7/jars/jpam-1.1.jar\n",
      "spark-2.4.4-bin-hadoop2.7/jars/jodd-core-3.5.2.jar\n",
      "spark-2.4.4-bin-hadoop2.7/jars/joda-time-2.9.3.jar\n",
      "spark-2.4.4-bin-hadoop2.7/jars/jline-2.14.6.jar\n",
      "spark-2.4.4-bin-hadoop2.7/jars/jetty-util-6.1.26.jar\n",
      "spark-2.4.4-bin-hadoop2.7/jars/jetty-6.1.26.jar\n",
      "spark-2.4.4-bin-hadoop2.7/jars/jersey-server-2.22.2.jar\n",
      "spark-2.4.4-bin-hadoop2.7/jars/jersey-media-jaxb-2.22.2.jar\n",
      "spark-2.4.4-bin-hadoop2.7/jars/jersey-guava-2.22.2.jar\n",
      "spark-2.4.4-bin-hadoop2.7/jars/jersey-container-servlet-core-2.22.2.jar\n",
      "spark-2.4.4-bin-hadoop2.7/jars/jersey-container-servlet-2.22.2.jar\n",
      "spark-2.4.4-bin-hadoop2.7/jars/jersey-common-2.22.2.jar\n",
      "spark-2.4.4-bin-hadoop2.7/jars/jersey-client-2.22.2.jar\n",
      "spark-2.4.4-bin-hadoop2.7/jars/jdo-api-3.0.1.jar\n",
      "spark-2.4.4-bin-hadoop2.7/jars/jcl-over-slf4j-1.7.16.jar\n",
      "spark-2.4.4-bin-hadoop2.7/jars/jaxb-api-2.2.2.jar\n",
      "spark-2.4.4-bin-hadoop2.7/jars/javolution-5.5.1.jar\n",
      "spark-2.4.4-bin-hadoop2.7/jars/javax.ws.rs-api-2.0.1.jar\n",
      "spark-2.4.4-bin-hadoop2.7/jars/javax.servlet-api-3.1.0.jar\n",
      "spark-2.4.4-bin-hadoop2.7/jars/javax.inject-2.4.0-b34.jar\n",
      "spark-2.4.4-bin-hadoop2.7/jars/javax.inject-1.jar\n",
      "spark-2.4.4-bin-hadoop2.7/jars/javax.annotation-api-1.2.jar\n",
      "spark-2.4.4-bin-hadoop2.7/jars/javassist-3.18.1-GA.jar\n",
      "spark-2.4.4-bin-hadoop2.7/jars/janino-3.0.9.jar\n",
      "spark-2.4.4-bin-hadoop2.7/jars/jackson-xc-1.9.13.jar\n",
      "spark-2.4.4-bin-hadoop2.7/jars/jackson-module-scala_2.11-2.6.7.1.jar\n",
      "spark-2.4.4-bin-hadoop2.7/jars/jackson-module-paranamer-2.7.9.jar\n",
      "spark-2.4.4-bin-hadoop2.7/jars/jackson-module-jaxb-annotations-2.6.7.jar\n",
      "spark-2.4.4-bin-hadoop2.7/RELEASE\n"
     ]
    }
   ],
   "source": [
    "!tar -xvf spark-2.4.4-bin-hadoop2.7.tgz"
   ]
  },
  {
   "cell_type": "code",
   "execution_count": 54,
   "metadata": {
    "colab": {
     "base_uri": "https://localhost:8080/",
     "height": 87
    },
    "colab_type": "code",
    "id": "WFSgJ-Uhw5td",
    "outputId": "18d3609f-fb42-4a63-f0ba-4847c6a05ed7"
   },
   "outputs": [
    {
     "name": "stdout",
     "output_type": "stream",
     "text": [
      "sample_data\t\t   spark-2.4.4-bin-hadoop2.7.tgz\n",
      "smallMovies.csv\t\t   spark-2.4.4-bin-hadoop2.7.tgz.1\n",
      "smallRatings.csv\t   spark-2.4.4-bin-hadoop2.7.tgz.2\n",
      "spark-2.4.4-bin-hadoop2.7\n"
     ]
    }
   ],
   "source": [
    "!ls "
   ]
  },
  {
   "cell_type": "code",
   "execution_count": 0,
   "metadata": {
    "colab": {},
    "colab_type": "code",
    "id": "kRrNZ75Ww87s"
   },
   "outputs": [],
   "source": [
    "!pip install -q findspark"
   ]
  },
  {
   "cell_type": "code",
   "execution_count": 0,
   "metadata": {
    "colab": {},
    "colab_type": "code",
    "id": "AWJ5VEPTw_hC"
   },
   "outputs": [],
   "source": [
    "import os\n",
    "os.environ[\"JAVA_HOME\"] = \"/usr/lib/jvm/java-8-openjdk-amd64\"\n",
    "os.environ[\"SPARK_HOME\"] = \"/content/spark-2.4.4-bin-hadoop2.7\""
   ]
  },
  {
   "cell_type": "code",
   "execution_count": 0,
   "metadata": {
    "colab": {},
    "colab_type": "code",
    "id": "B99uZpaUxEku"
   },
   "outputs": [],
   "source": [
    "import findspark\n",
    "findspark.init()\n",
    "from pyspark.sql import SparkSession\n",
    "spark = SparkSession.builder.master(\"local[*]\").getOrCreate()"
   ]
  },
  {
   "cell_type": "code",
   "execution_count": 58,
   "metadata": {
    "colab": {
     "base_uri": "https://localhost:8080/",
     "height": 195
    },
    "colab_type": "code",
    "id": "2XuZZvMDxIJR",
    "outputId": "c77f22f3-2202-4ee2-b77a-49ad13301902"
   },
   "outputs": [
    {
     "name": "stderr",
     "output_type": "stream",
     "text": [
      "/content/spark-2.4.4-bin-hadoop2.7/python/pyspark/sql/session.py:346: UserWarning: inferring schema from dict is deprecated,please use pyspark.sql.Row instead\n",
      "  warnings.warn(\"inferring schema from dict is deprecated,\"\n"
     ]
    },
    {
     "name": "stdout",
     "output_type": "stream",
     "text": [
      "+--------+------+\n",
      "|  Google| Spark|\n",
      "+--------+------+\n",
      "|   Colab| Scala|\n",
      "|Dataproc|Python|\n",
      "+--------+------+\n",
      "\n"
     ]
    }
   ],
   "source": [
    "df = spark.createDataFrame([{\"Google\": \"Colab\",\"Spark\": \"Scala\"} ,{\"Google\": \"Dataproc\",\"Spark\":\"Python\"}])\n",
    "df.show()"
   ]
  },
  {
   "cell_type": "markdown",
   "metadata": {
    "colab_type": "text",
    "id": "q_CehnO1yyTl"
   },
   "source": [
    "**IMPORTING SPARK CONTEXT AND NECESSARY PACKAGES**"
   ]
  },
  {
   "cell_type": "code",
   "execution_count": 0,
   "metadata": {
    "colab": {},
    "colab_type": "code",
    "id": "2L9GbiF5xd68"
   },
   "outputs": [],
   "source": [
    "from pyspark import SparkConf\n",
    "from pyspark import SparkContext\n",
    "from pyspark import HiveContext\n",
    "sc = SparkContext.getOrCreate(SparkConf().setMaster(\"local[*]\"))"
   ]
  },
  {
   "cell_type": "code",
   "execution_count": 0,
   "metadata": {
    "colab": {},
    "colab_type": "code",
    "id": "ax7EyImyx7AY"
   },
   "outputs": [],
   "source": [
    "from pyspark.mllib.recommendation import ALS\n",
    "import math\n",
    "import pandas as pd\n",
    "from time import time\n",
    "from pyspark.mllib.recommendation import MatrixFactorizationModel"
   ]
  },
  {
   "cell_type": "markdown",
   "metadata": {
    "colab_type": "text",
    "id": "zxMDn7vby012"
   },
   "source": [
    "# **LOADING THE DATA**\n",
    "\n",
    "\n",
    "\n"
   ]
  },
  {
   "cell_type": "code",
   "execution_count": 0,
   "metadata": {
    "colab": {},
    "colab_type": "code",
    "id": "TUdkL1uVx9BP"
   },
   "outputs": [],
   "source": [
    "#We will be using Alternating Least Squares algorithm for collaborative filtering, therefore, first we need to learn the parameters of the model.\n",
    "#The files have been uploaded directly to this Google Colab notebook rather than Google Drive for ease of use.\n",
    "#For this, we first load the small data set.\n",
    "\n",
    "smallRatings_raw = sc.textFile('smallRatings.csv')\n",
    "\n",
    "#Filter the header out\n",
    "smallRatings_raw_header = smallRatings_raw.take(1)[0]                 "
   ]
  },
  {
   "cell_type": "code",
   "execution_count": 0,
   "metadata": {
    "colab": {},
    "colab_type": "code",
    "id": "HmiwbLGCyH0g"
   },
   "outputs": [],
   "source": [
    "#Now we convert this data into a RDD using a mapper function which we learned in class\n",
    "\n",
    "smallRatings_data = smallRatings_raw.filter(lambda line: line!=smallRatings_raw_header)\\\n",
    "    .map(lambda line: line.split(\",\")).map(lambda tokens: (tokens[0],tokens[1],tokens[2])).cache()"
   ]
  },
  {
   "cell_type": "code",
   "execution_count": 63,
   "metadata": {
    "colab": {
     "base_uri": "https://localhost:8080/",
     "height": 193
    },
    "colab_type": "code",
    "id": "n3xVoEZOyJxg",
    "outputId": "1c7f26b6-1031-4828-e775-23e16de5cd28"
   },
   "outputs": [
    {
     "data": {
      "text/plain": [
       "[('1', '1', '4.0'),\n",
       " ('1', '3', '4.0'),\n",
       " ('1', '6', '4.0'),\n",
       " ('1', '47', '5.0'),\n",
       " ('1', '50', '5.0'),\n",
       " ('1', '70', '3.0'),\n",
       " ('1', '101', '5.0'),\n",
       " ('1', '110', '4.0'),\n",
       " ('1', '151', '5.0'),\n",
       " ('1', '157', '5.0')]"
      ]
     },
     "execution_count": 63,
     "metadata": {
      "tags": []
     },
     "output_type": "execute_result"
    }
   ],
   "source": [
    "#Let's look at how this data looks. \n",
    "#Print the first 10 lines of this small ratings data\n",
    "smallRatings_data.take(10)"
   ]
  },
  {
   "cell_type": "code",
   "execution_count": 0,
   "metadata": {
    "colab": {},
    "colab_type": "code",
    "id": "Wj1U0GUVyLq0"
   },
   "outputs": [],
   "source": [
    "#Now we can perform the same steps with the movie dataset\n",
    "smallMovies_raw = sc.textFile('smallMovies.csv')\n",
    "#Filter the header out\n",
    "smallMovies_raw_header = smallMovies_raw.take(1)[0]"
   ]
  },
  {
   "cell_type": "code",
   "execution_count": 65,
   "metadata": {
    "colab": {
     "base_uri": "https://localhost:8080/",
     "height": 193
    },
    "colab_type": "code",
    "id": "sqPGT9iiyXao",
    "outputId": "5f00cc9e-f275-4287-8dcb-51e6ac8dc24f"
   },
   "outputs": [
    {
     "data": {
      "text/plain": [
       "[('1', 'Toy Story (1995)'),\n",
       " ('2', 'Jumanji (1995)'),\n",
       " ('3', 'Grumpier Old Men (1995)'),\n",
       " ('4', 'Waiting to Exhale (1995)'),\n",
       " ('5', 'Father of the Bride Part II (1995)'),\n",
       " ('6', 'Heat (1995)'),\n",
       " ('7', 'Sabrina (1995)'),\n",
       " ('8', 'Tom and Huck (1995)'),\n",
       " ('9', 'Sudden Death (1995)'),\n",
       " ('10', 'GoldenEye (1995)')]"
      ]
     },
     "execution_count": 65,
     "metadata": {
      "tags": []
     },
     "output_type": "execute_result"
    }
   ],
   "source": [
    "#Now we convert this data into a RDD using a mapper function which we learned in class\n",
    "smallMovies_data = smallMovies_raw.filter(lambda line: line!=smallMovies_raw_header)\\\n",
    "    .map(lambda line: line.split(\",\")).map(lambda tokens: (tokens[0],tokens[1])).cache()\n",
    " #Viewing the first 10 lines of this small movies data set   \n",
    "smallMovies_data.take(10)"
   ]
  },
  {
   "cell_type": "markdown",
   "metadata": {
    "colab_type": "text",
    "id": "C-rGYTOZ2IMT"
   },
   "source": [
    "## **SPLITTING DATA INTO TRAIN , VALIDATION AND TEST**"
   ]
  },
  {
   "cell_type": "code",
   "execution_count": 0,
   "metadata": {
    "colab": {},
    "colab_type": "code",
    "id": "T_isRoXkyZSo"
   },
   "outputs": [],
   "source": [
    "\n",
    "#We split the data into 70% training data, 15% validation data, 15% test data\n",
    "trainRDD_small, valRDD_small, testRDD_small = smallRatings_data.randomSplit([7, 1.5, 1.5], seed=123)\n",
    "validatePredict_small = valRDD_small.map(lambda x: (x[0], x[1]))\n",
    "testPredict_small = testRDD_small.map(lambda x: (x[0], x[1]))"
   ]
  },
  {
   "cell_type": "markdown",
   "metadata": {
    "colab_type": "text",
    "id": "sC1phVFE3IuQ"
   },
   "source": [
    "# **TRAINING THE MODEL**"
   ]
  },
  {
   "cell_type": "markdown",
   "metadata": {
    "colab_type": "text",
    "id": "kac7EK7J3L1k"
   },
   "source": [
    "**LEARN THE BEST ALS PARAMETERS**"
   ]
  },
  {
   "cell_type": "code",
   "execution_count": 0,
   "metadata": {
    "colab": {},
    "colab_type": "code",
    "id": "B9FYOp5GybJo"
   },
   "outputs": [],
   "source": [
    "seed = 123\n",
    "iterations = 13\n",
    "regularization_parameter = 0.025\n",
    "ranks = [6, 8, 10]\n",
    "errors = [0, 0, 0]\n",
    "err = 0\n",
    "tolerance = 0.01\n",
    "\n",
    "\n",
    "minError = float('inf')\n",
    "bestRank = -1\n",
    "bestIteration = -1\n"
   ]
  },
  {
   "cell_type": "markdown",
   "metadata": {
    "colab_type": "text",
    "id": "OEMOFsTN3qk3"
   },
   "source": [
    "**Collaborative Filtering**"
   ]
  },
  {
   "cell_type": "code",
   "execution_count": 68,
   "metadata": {
    "colab": {
     "base_uri": "https://localhost:8080/",
     "height": 87
    },
    "colab_type": "code",
    "id": "pQwNy8q53eKY",
    "outputId": "531c8ef3-0752-43ad-82cf-5dc43a5b8513"
   },
   "outputs": [
    {
     "name": "stdout",
     "output_type": "stream",
     "text": [
      "For rank 6 the RMSE is 1.0111251560019323\n",
      "For rank 8 the RMSE is 1.044171049363525\n",
      "For rank 10 the RMSE is 1.060494299914958\n",
      "The best model was trained with rank 6\n"
     ]
    }
   ],
   "source": [
    "#Here, we perform the iterative Alternative Least Square Procedure to predict the ratings of the movies\n",
    "#We find the Root Mean Squared Error of the Model\n",
    "\n",
    "\n",
    "for rank in ranks:\n",
    "    model1 = ALS.train(trainRDD_small, rank, seed=seed, iterations=iterations,\n",
    "                      lambda_=regularization_parameter)\n",
    "    preds = model1.predictAll(validatePredict_small).map(lambda r: ((r[0], r[1]), r[2]))    #predicting the ratings\n",
    "    ratings_predictions = valRDD_small.map(lambda r: ((int(r[0]), int(r[1])), float(r[2]))).join(preds)  #joining the actual ratings and predicted in the validation set\n",
    "    error = math.sqrt(ratings_predictions.map(lambda r: (r[1][0] - r[1][1])**2).mean()) #Obtaining RMSE\n",
    "    errors[err] = error\n",
    "    err += 1\n",
    "    print('For rank %s the RMSE is %s' % (rank, error))\n",
    "    if error < minError:\n",
    "        minError = error\n",
    "        bestRank = rank\n",
    "\n",
    "print('The best model was trained with rank %s' % bestRank)"
   ]
  },
  {
   "cell_type": "code",
   "execution_count": 69,
   "metadata": {
    "colab": {
     "base_uri": "https://localhost:8080/",
     "height": 105
    },
    "colab_type": "code",
    "id": "lSmtqVun49Hr",
    "outputId": "490c0381-824a-435c-c0b3-e3ad3a6375f7"
   },
   "outputs": [
    {
     "data": {
      "text/plain": [
       "[((315, 1084), 2.9636507944147628),\n",
       " ((452, 3702), 4.058619884396285),\n",
       " ((18, 3702), 3.4063590681850293),\n",
       " ((290, 3702), 3.3933133154139217),\n",
       " ((380, 3702), 4.369506612892415)]"
      ]
     },
     "execution_count": 69,
     "metadata": {
      "tags": []
     },
     "output_type": "execute_result"
    }
   ],
   "source": [
    "#The ratings dataset had the columns: UserID | MovieID | Ratings \n",
    "#In the above loop, the preds variable holds the predictions for these 'Ratings' in the dataset\n",
    "#Let us look at first 5 predictions for these ratings predicted by the ALS model\n",
    "\n",
    "preds.take(5)   #Note that the ratings of the movie is out of 5"
   ]
  },
  {
   "cell_type": "code",
   "execution_count": 70,
   "metadata": {
    "colab": {
     "base_uri": "https://localhost:8080/",
     "height": 105
    },
    "colab_type": "code",
    "id": "BtUBKTX35b8h",
    "outputId": "781589e8-57d0-46a0-9004-7ae0bd9a957b"
   },
   "outputs": [
    {
     "data": {
      "text/plain": [
       "[((1, 733), (4.0, 4.5331440557202285)),\n",
       " ((1, 1377), (3.0, 3.865324057067811)),\n",
       " ((1, 2529), (5.0, 4.450967640137541)),\n",
       " ((1, 2641), (5.0, 4.053473053499157)),\n",
       " ((1, 2985), (4.0, 3.99912376414666))]"
      ]
     },
     "execution_count": 70,
     "metadata": {
      "tags": []
     },
     "output_type": "execute_result"
    }
   ],
   "source": [
    "#In the above loop, we also joined the ratings and the predictions in our Validation dataset\n",
    "#Let us look at this together.\n",
    "\n",
    "ratings_predictions.take(5)"
   ]
  },
  {
   "cell_type": "markdown",
   "metadata": {
    "colab_type": "text",
    "id": "yOREJ2oV6-5U"
   },
   "source": [
    "## **TESTING OUR MODEL**"
   ]
  },
  {
   "cell_type": "code",
   "execution_count": 71,
   "metadata": {
    "colab": {
     "base_uri": "https://localhost:8080/",
     "height": 35
    },
    "colab_type": "code",
    "id": "yIsmZrKK7CG8",
    "outputId": "fa046804-7afe-4676-b601-904f161d2726"
   },
   "outputs": [
    {
     "name": "stdout",
     "output_type": "stream",
     "text": [
      "For the Test RDD the RMSE is 1.0630334164757704\n"
     ]
    }
   ],
   "source": [
    "#Here we will test the model that we selected based on lowest RMSE\n",
    "model1_test = ALS.train(trainRDD_small, rank, seed=seed, iterations=iterations, \n",
    "                        lambda_=regularization_parameter)\n",
    "preds_test = model1_test.predictAll(testPredict_small).map(lambda r: ((r[0], r[1]), r[2]))\n",
    "rates_predictions_test = testRDD_small.map(lambda r: ((int(r[0]), int(r[1])), float(r[2]))).join(preds_test)\n",
    "error = math.sqrt(rates_predictions_test.map(lambda r: (r[1][0] - r[1][1])**2).mean())\n",
    "\n",
    "print('For the Test RDD the RMSE is %s' % (error))\n"
   ]
  },
  {
   "cell_type": "code",
   "execution_count": 0,
   "metadata": {
    "colab": {},
    "colab_type": "code",
    "id": "ZIRYsdGH8qJa"
   },
   "outputs": [],
   "source": [
    "#The performance is not that great but it is not bad either, so we carry on to the next step."
   ]
  },
  {
   "cell_type": "markdown",
   "metadata": {
    "colab_type": "text",
    "id": "THVxAWD88drc"
   },
   "source": [
    "## **BUILDING RECOMMENDER SYSTEM MODEL**"
   ]
  },
  {
   "cell_type": "code",
   "execution_count": 0,
   "metadata": {
    "colab": {},
    "colab_type": "code",
    "id": "UqiAMqKK8jAi"
   },
   "outputs": [],
   "source": [
    "#We have trained and chosen the best model with the partial dataset\n",
    "#Now to build our final recommender system model, we will work with the complete dataset.\n",
    "\n"
   ]
  },
  {
   "cell_type": "markdown",
   "metadata": {
    "colab_type": "text",
    "id": "OwQa0x0N8uot"
   },
   "source": [
    "**Load the complete dataset**"
   ]
  },
  {
   "cell_type": "code",
   "execution_count": 0,
   "metadata": {
    "colab": {},
    "colab_type": "code",
    "id": "M0Jr6fN38uFx"
   },
   "outputs": [],
   "source": [
    "#Load the complete movies dataset\n",
    "completeMovies_raw = sc.textFile('fullMovies.csv')\n",
    "#Remove header of this data\n",
    "completeMovies_raw_header = completeMovies_raw.take(1)[0]\n"
   ]
  },
  {
   "cell_type": "code",
   "execution_count": 0,
   "metadata": {
    "colab": {},
    "colab_type": "code",
    "id": "6owpIHjhDLw6"
   },
   "outputs": [],
   "source": [
    "#Convert the data into RDD\n",
    "completeMovies_data = completeMovies_raw.filter(lambda line: line!=completeMovies_raw_header)\\\n",
    "    .map(lambda line: line.split(\",\")).map(lambda tokens: (tokens[0],tokens[1])).cache()\n"
   ]
  },
  {
   "cell_type": "code",
   "execution_count": 80,
   "metadata": {
    "colab": {
     "base_uri": "https://localhost:8080/",
     "height": 281
    },
    "colab_type": "code",
    "id": "Dl8TE8R1DeEi",
    "outputId": "8147e0e3-2004-44e7-b357-13a098fb600c"
   },
   "outputs": [
    {
     "data": {
      "text/plain": [
       "[('1', 'Toy Story (1995)'),\n",
       " ('2', 'Jumanji (1995)'),\n",
       " ('3', 'Grumpier Old Men (1995)'),\n",
       " ('4', 'Waiting to Exhale (1995)'),\n",
       " ('5', 'Father of the Bride Part II (1995)'),\n",
       " ('6', 'Heat (1995)'),\n",
       " ('7', 'Sabrina (1995)'),\n",
       " ('8', 'Tom and Huck (1995)'),\n",
       " ('9', 'Sudden Death (1995)'),\n",
       " ('10', 'GoldenEye (1995)'),\n",
       " ('11', '\"American President'),\n",
       " ('12', 'Dracula: Dead and Loving It (1995)'),\n",
       " ('13', 'Balto (1995)'),\n",
       " ('14', 'Nixon (1995)'),\n",
       " ('15', 'Cutthroat Island (1995)')]"
      ]
     },
     "execution_count": 80,
     "metadata": {
      "tags": []
     },
     "output_type": "execute_result"
    }
   ],
   "source": [
    "#We will not use this RDD unitl later but lets look at the first 15 lines\n",
    "completeMovies_data.take(15)"
   ]
  },
  {
   "cell_type": "code",
   "execution_count": 117,
   "metadata": {
    "colab": {
     "base_uri": "https://localhost:8080/",
     "height": 35
    },
    "colab_type": "code",
    "id": "QqGDYpciUkvB",
    "outputId": "4675804f-5387-4d1c-d2bb-98356328cbe9"
   },
   "outputs": [
    {
     "data": {
      "text/plain": [
       "[(1, 'Toy Story (1995)'), (2, 'Jumanji (1995)')]"
      ]
     },
     "execution_count": 117,
     "metadata": {
      "tags": []
     },
     "output_type": "execute_result"
    }
   ],
   "source": [
    "completeMovies_titles = completeMovies_data.map(lambda x: (int(x[0]),x[1]))\n",
    "completeMovies_titles.take(2)\n"
   ]
  },
  {
   "cell_type": "code",
   "execution_count": 103,
   "metadata": {
    "colab": {
     "base_uri": "https://localhost:8080/",
     "height": 35
    },
    "colab_type": "code",
    "id": "VPcQJ6EuKsrj",
    "outputId": "a11dedb4-1ca4-4ef8-e5fa-b31d76558c61"
   },
   "outputs": [
    {
     "name": "stdout",
     "output_type": "stream",
     "text": [
      "The number of ratings observations in the complete dataset is: 58098\n"
     ]
    }
   ],
   "source": [
    "#Getting a count of the number of movies in this dataset.\n",
    "print('The number of ratings observations in the complete dataset is: %s'%(completeMovies_titles.count()))"
   ]
  },
  {
   "cell_type": "code",
   "execution_count": 0,
   "metadata": {
    "colab": {},
    "colab_type": "code",
    "id": "mAv_kjY_A6mF"
   },
   "outputs": [],
   "source": [
    "#load the complete ratings dataset which is used for building the model\n",
    "completeRatings_raw =sc.textFile('fullRatings.csv')"
   ]
  },
  {
   "cell_type": "code",
   "execution_count": 0,
   "metadata": {
    "colab": {},
    "colab_type": "code",
    "id": "zIfH0eqMCzkD"
   },
   "outputs": [],
   "source": [
    "#Remove the header in this data\n",
    "completeRatings_raw_header = completeRatings_raw.take(1)[0]"
   ]
  },
  {
   "cell_type": "code",
   "execution_count": 0,
   "metadata": {
    "colab": {},
    "colab_type": "code",
    "id": "LxM8liEFC-IX"
   },
   "outputs": [],
   "source": [
    "#Convert into RDD\n",
    "\n",
    "completeRatings_data = completeRatings_raw.filter(lambda line: line!=completeRatings_raw_header)\\\n",
    "    .map(lambda line: line.split(\",\")).map(lambda tokens: (tokens[0],tokens[1],tokens[2])).cache()\n"
   ]
  },
  {
   "cell_type": "code",
   "execution_count": 84,
   "metadata": {
    "colab": {
     "base_uri": "https://localhost:8080/",
     "height": 281
    },
    "colab_type": "code",
    "id": "jR5_zZgTD8eD",
    "outputId": "79ec1c45-2d54-4cf4-cb9e-3f69268dbf7c"
   },
   "outputs": [
    {
     "data": {
      "text/plain": [
       "[('1', '307', '3.5'),\n",
       " ('1', '481', '3.5'),\n",
       " ('1', '1091', '1.5'),\n",
       " ('1', '1257', '4.5'),\n",
       " ('1', '1449', '4.5'),\n",
       " ('1', '1590', '2.5'),\n",
       " ('1', '1591', '1.5'),\n",
       " ('1', '2134', '4.5'),\n",
       " ('1', '2478', '4.0'),\n",
       " ('1', '2840', '3.0'),\n",
       " ('1', '2986', '2.5'),\n",
       " ('1', '3020', '4.0'),\n",
       " ('1', '3424', '4.5'),\n",
       " ('1', '3698', '3.5'),\n",
       " ('1', '3826', '2.0')]"
      ]
     },
     "execution_count": 84,
     "metadata": {
      "tags": []
     },
     "output_type": "execute_result"
    }
   ],
   "source": [
    "#Lets look at first 15 lines of this data\n",
    "completeRatings_data.take(15)"
   ]
  },
  {
   "cell_type": "code",
   "execution_count": 85,
   "metadata": {
    "colab": {
     "base_uri": "https://localhost:8080/",
     "height": 35
    },
    "colab_type": "code",
    "id": "8KoUkJTqEIi1",
    "outputId": "7d37f313-bc0c-46c1-968e-4aa2256656f8"
   },
   "outputs": [
    {
     "name": "stdout",
     "output_type": "stream",
     "text": [
      "The number of ratings observations in the complete dataset is: 27753444\n"
     ]
    }
   ],
   "source": [
    "#This data is huge so let us get the count of ratings dataset just for some information\n",
    "print('The number of ratings observations in the complete dataset is: %s'%(completeRatings_data.count()))"
   ]
  },
  {
   "cell_type": "markdown",
   "metadata": {
    "colab_type": "text",
    "id": "7XXFQCtWFY7E"
   },
   "source": [
    " **TRAIN THE RECOMMENDER SYSTEM MODEL**"
   ]
  },
  {
   "cell_type": "code",
   "execution_count": 0,
   "metadata": {
    "colab": {},
    "colab_type": "code",
    "id": "PbT1Vs2kFYlg"
   },
   "outputs": [],
   "source": [
    "#First we split the data in train set and test set \n",
    "#Splot: Training 75% and Test 25%\n",
    "\n",
    "train_complete , test_complete = completeRatings_data.randomSplit([7.5,2.5], seed=1)\n",
    "\n",
    "#ALS model train\n",
    "model2 = ALS.train(train_complete, bestRank, seed=seed, iterations=iterations, \n",
    "                   lambda_=regularization_parameter)\n"
   ]
  },
  {
   "cell_type": "markdown",
   "metadata": {
    "colab_type": "text",
    "id": "gdTeiOnvGvZN"
   },
   "source": [
    "**TEST THE MODEL**"
   ]
  },
  {
   "cell_type": "code",
   "execution_count": 88,
   "metadata": {
    "colab": {
     "base_uri": "https://localhost:8080/",
     "height": 35
    },
    "colab_type": "code",
    "id": "t_HqUTRlFOrt",
    "outputId": "9ae357bc-277a-47b7-e54c-7427b8d885a1"
   },
   "outputs": [
    {
     "name": "stdout",
     "output_type": "stream",
     "text": [
      "Test Data RMSE = 0.8243178639739481\n"
     ]
    }
   ],
   "source": [
    "testPredict_complete = test_complete.map(lambda x: (x[0], x[1]))\n",
    "preds2 = model2.predictAll(testPredict_complete).map(lambda r: ((r[0], r[1]), r[2]))   #predicting the ratings\n",
    "rates_predictions_test2 = test_complete.map(lambda r: ((int(r[0]), int(r[1])), float(r[2]))).join(preds2) #combining ratings and predicted ratings\n",
    "error2 = math.sqrt(rates_predictions_test2.map(lambda r: (r[1][0] - r[1][1])**2).mean())  #Calculating RMSE\n",
    "\n",
    "print ('Test Data RMSE = %s' % (error2))"
   ]
  },
  {
   "cell_type": "code",
   "execution_count": 0,
   "metadata": {
    "colab": {},
    "colab_type": "code",
    "id": "Xk1JPFNAMisu"
   },
   "outputs": [],
   "source": [
    "#Also consider the case when there is a new user\n",
    "#We will first assign some general rating for this new user on our own\n",
    "\n",
    "newUser_ID = 0\n",
    "#The ratings dataset is of the form UserID | MovieID | Rating\n",
    "#Randomly assign new ratings for movies\n",
    "newUser_ratings = [(0,3,3), (0,1,5), (0,6,4), (0,47,3), (0,50,4), (0,70,5), (0,101,4), (0,110,5), (0,151,2) , (0,260,5) ]\n",
    "\n",
    "newUser_ratings_RDD = sc.parallelize(newUser_ratings)"
   ]
  },
  {
   "cell_type": "code",
   "execution_count": 143,
   "metadata": {
    "colab": {
     "base_uri": "https://localhost:8080/",
     "height": 193
    },
    "colab_type": "code",
    "id": "lEs1kmnXO48A",
    "outputId": "bb5bc06d-d024-465c-a042-08f70b881786"
   },
   "outputs": [
    {
     "data": {
      "text/plain": [
       "[(0, 3, 3),\n",
       " (0, 1, 5),\n",
       " (0, 6, 4),\n",
       " (0, 47, 3),\n",
       " (0, 50, 4),\n",
       " (0, 70, 5),\n",
       " (0, 101, 4),\n",
       " (0, 110, 5),\n",
       " (0, 151, 2),\n",
       " (0, 260, 5)]"
      ]
     },
     "execution_count": 143,
     "metadata": {
      "tags": []
     },
     "output_type": "execute_result"
    }
   ],
   "source": [
    "#Printing the first 10 lines of this RDD\n",
    "\n",
    "newUser_ratings_RDD.take(10)"
   ]
  },
  {
   "cell_type": "code",
   "execution_count": 0,
   "metadata": {
    "colab": {},
    "colab_type": "code",
    "id": "YaopJ2wfPOYr"
   },
   "outputs": [],
   "source": [
    "CompleteData = completeRatings_data.union(newUser_ratings_RDD) #Adding new user ratings to originial data\n"
   ]
  },
  {
   "cell_type": "code",
   "execution_count": 0,
   "metadata": {
    "colab": {},
    "colab_type": "code",
    "id": "WipXgVVcQD9p"
   },
   "outputs": [],
   "source": [
    "#train the model for every new user\n",
    "model3 = ALS.train(CompleteData, bestRank, seed = seed, iterations  = iterations, \n",
    "                   lambda_ = regularization_parameter)"
   ]
  },
  {
   "cell_type": "markdown",
   "metadata": {
    "colab_type": "text",
    "id": "B-us_xB1RIEE"
   },
   "source": [
    "## **GENERATE THE TOP RECOMMENDATION FOR USER**"
   ]
  },
  {
   "cell_type": "code",
   "execution_count": 0,
   "metadata": {
    "colab": {},
    "colab_type": "code",
    "id": "1oaCRGsqP6Px"
   },
   "outputs": [],
   "source": [
    "newUser_ratingsID = map(lambda x: x[1], newUser_ratings )\n",
    "\n",
    "#Now looking at the movies the new user has not rated\n",
    "newUser_unratedMovies = (completeMovies_data.filter(lambda x: x[0] not in newUser_ratingsID ).map(lambda x: (newUser_ID, x[0])))\n"
   ]
  },
  {
   "cell_type": "code",
   "execution_count": 169,
   "metadata": {
    "colab": {
     "base_uri": "https://localhost:8080/",
     "height": 52
    },
    "colab_type": "code",
    "id": "SYxvpVkuSol3",
    "outputId": "91d84d9c-6b72-4a87-85ff-fb44aab2d8a1"
   },
   "outputs": [
    {
     "data": {
      "text/plain": [
       "[Rating(user=0, product=116688, rating=1.152886852958059),\n",
       " Rating(user=0, product=32196, rating=3.8005802511204148)]"
      ]
     },
     "execution_count": 169,
     "metadata": {
      "tags": []
     },
     "output_type": "execute_result"
    }
   ],
   "source": [
    "#Now let us focus on predicting these ratings for unrated movies\n",
    "newUserRecommendations = model3.predictAll(newUser_unratedMovies)\n",
    "\n",
    "newUserRecommendations.take(2)"
   ]
  },
  {
   "cell_type": "code",
   "execution_count": 0,
   "metadata": {
    "colab": {},
    "colab_type": "code",
    "id": "qnkVv4WtTGBm"
   },
   "outputs": [],
   "source": [
    "#As we can see the format of the output isnt quite clear and right\n",
    "#We can transform this into pairs of (MovieId , PredictedRating) instead of product and rating\n",
    "newUser_recommendationsRating = newUserRecommendations.map(lambda x: (x.product, x.rating))\n"
   ]
  },
  {
   "cell_type": "code",
   "execution_count": 0,
   "metadata": {
    "colab": {},
    "colab_type": "code",
    "id": "LHarIW8VW1Ip"
   },
   "outputs": [],
   "source": [
    "newUser_recommendationsTating_titleCount= newUser_recommendationsRating.join(completeMovies_titles)\n"
   ]
  },
  {
   "cell_type": "code",
   "execution_count": 172,
   "metadata": {
    "colab": {
     "base_uri": "https://localhost:8080/",
     "height": 193
    },
    "colab_type": "code",
    "id": "Pc1cVRlIXs6T",
    "outputId": "16dc53c4-3979-4442-ad25-730a7eea2cb5"
   },
   "outputs": [
    {
     "data": {
      "text/plain": [
       "[(138348, (1.724403424193519, 'Niente paura (2010)')),\n",
       " (158088, (3.577841262469132, 'The Circle (1985)')),\n",
       " (82068, (1.573676378940314, 'Police (1985)')),\n",
       " (160104, (0.5469756473073182, 'Ribbit (2014)')),\n",
       " (1596, (2.1183117658983366, 'Career Girls (1997)')),\n",
       " (127176, (1.2999547807012686, 'The First Movie (2009)')),\n",
       " (145992, (1.9330663788785003, 'The House That Swift Built (1982)')),\n",
       " (1344, (3.7975602402937167, 'Cape Fear (1962)')),\n",
       " (7560, (3.608453253838011, 'Fail-Safe (1964)')),\n",
       " (50064, (2.1945220324476686, '\"Good German'))]"
      ]
     },
     "execution_count": 172,
     "metadata": {
      "tags": []
     },
     "output_type": "execute_result"
    }
   ],
   "source": [
    "#Generating top 10 recommended movies for the user\n",
    "newUser_recommendationsTating_titleCount.take(10)"
   ]
  },
  {
   "cell_type": "code",
   "execution_count": 173,
   "metadata": {
    "colab": {
     "base_uri": "https://localhost:8080/",
     "height": 35
    },
    "colab_type": "code",
    "id": "LhbDY6WfjvaD",
    "outputId": "ade690b1-d830-4f5d-931c-1e57cf24c458"
   },
   "outputs": [
    {
     "data": {
      "text/plain": [
       "[Rating(user=0, product=116688, rating=1.152886852958059)]"
      ]
     },
     "execution_count": 173,
     "metadata": {
      "tags": []
     },
     "output_type": "execute_result"
    }
   ],
   "source": [
    "#Extending this to generate individual ratings for one particular movie\n",
    "#Say we want to get the prediction of MovieID 10\n",
    "\n",
    "#We can do this now\n",
    "\n",
    "movie = sc.parallelize([(0,10)])\n",
    "movie_rating = model3.predictAll(newUser_unratedMovies)\n",
    "movie_rating.take(1)"
   ]
  },
  {
   "cell_type": "code",
   "execution_count": 0,
   "metadata": {
    "colab": {},
    "colab_type": "code",
    "id": "cCnF-bDokVWD"
   },
   "outputs": [],
   "source": [
    "#That movie rating has been predicted to have a rating of 1.152"
   ]
  }
 ],
 "metadata": {
  "colab": {
   "collapsed_sections": [],
   "name": "Untitled15.ipynb",
   "provenance": []
  },
  "kernelspec": {
   "display_name": "Python 3",
   "language": "python",
   "name": "python3"
  },
  "language_info": {
   "codemirror_mode": {
    "name": "ipython",
    "version": 3
   },
   "file_extension": ".py",
   "mimetype": "text/x-python",
   "name": "python",
   "nbconvert_exporter": "python",
   "pygments_lexer": "ipython3",
   "version": "3.6.5"
  },
  "toc": {
   "base_numbering": 1,
   "nav_menu": {},
   "number_sections": true,
   "sideBar": true,
   "skip_h1_title": false,
   "title_cell": "Table of Contents",
   "title_sidebar": "Contents",
   "toc_cell": false,
   "toc_position": {},
   "toc_section_display": true,
   "toc_window_display": false
  }
 },
 "nbformat": 4,
 "nbformat_minor": 1
}
